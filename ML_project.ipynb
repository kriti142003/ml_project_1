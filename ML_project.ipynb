{
 "cells": [
  {
   "cell_type": "code",
   "execution_count": 1,
   "id": "df07151d",
   "metadata": {},
   "outputs": [],
   "source": [
    "#importing lib\n",
    "import numpy as np\n",
    "import pandas as pd\n",
    "import matplotlib.pyplot as plt\n",
    "import seaborn as sns\n",
    "import matplotlib.pyplot as plt\n",
    "from pandas import DataFrame\n",
    "%matplotlib inline"
   ]
  },
  {
   "cell_type": "code",
   "execution_count": 2,
   "id": "70fa1b19",
   "metadata": {},
   "outputs": [],
   "source": [
    "df=pd.read_csv(r\"C:\\Users\\Dell\\OneDrive\\Desktop\\travel website\\test.csv\")"
   ]
  },
  {
   "cell_type": "code",
   "execution_count": 3,
   "id": "2c008466",
   "metadata": {},
   "outputs": [
    {
     "name": "stdout",
     "output_type": "stream",
     "text": [
      "       id  battery_power  blue  clock_speed  dual_sim  fc  four_g  int_memory  \\\n",
      "0       1           1043     1          1.8         1  14       0           5   \n",
      "1       2            841     1          0.5         1   4       1          61   \n",
      "2       3           1807     1          2.8         0   1       0          27   \n",
      "3       4           1546     0          0.5         1  18       1          25   \n",
      "4       5           1434     0          1.4         0  11       1          49   \n",
      "..    ...            ...   ...          ...       ...  ..     ...         ...   \n",
      "995   996           1700     1          1.9         0   0       1          54   \n",
      "996   997            609     0          1.8         1   0       0          13   \n",
      "997   998           1185     0          1.4         0   1       1           8   \n",
      "998   999           1533     1          0.5         1   0       0          50   \n",
      "999  1000           1270     1          0.5         0   4       1          35   \n",
      "\n",
      "     m_dep  mobile_wt  ...  pc  px_height  px_width   ram  sc_h  sc_w  \\\n",
      "0      0.1        193  ...  16        226      1412  3476    12     7   \n",
      "1      0.8        191  ...  12        746       857  3895     6     0   \n",
      "2      0.9        186  ...   4       1270      1366  2396    17    10   \n",
      "3      0.5         96  ...  20        295      1752  3893    10     0   \n",
      "4      0.5        108  ...  18        749       810  1773    15     8   \n",
      "..     ...        ...  ...  ..        ...       ...   ...   ...   ...   \n",
      "995    0.5        170  ...  17        644       913  2121    14     8   \n",
      "996    0.9        186  ...   2       1152      1632  1933     8     1   \n",
      "997    0.5         80  ...  12        477       825  1223     5     0   \n",
      "998    0.4        171  ...  12         38       832  2509    15    11   \n",
      "999    0.1        140  ...  19        457       608  2828     9     2   \n",
      "\n",
      "     talk_time  three_g  touch_screen  wifi  \n",
      "0            2        0             1     0  \n",
      "1            7        1             0     0  \n",
      "2           10        0             1     1  \n",
      "3            7        1             1     0  \n",
      "4            7        1             0     1  \n",
      "..         ...      ...           ...   ...  \n",
      "995         15        1             1     0  \n",
      "996         19        0             1     1  \n",
      "997         14        1             0     0  \n",
      "998          6        0             1     0  \n",
      "999          3        1             0     1  \n",
      "\n",
      "[1000 rows x 21 columns]\n"
     ]
    }
   ],
   "source": [
    "print(df)"
   ]
  },
  {
   "cell_type": "code",
   "execution_count": 4,
   "id": "6c749b5a",
   "metadata": {},
   "outputs": [
    {
     "data": {
      "text/html": [
       "<div>\n",
       "<style scoped>\n",
       "    .dataframe tbody tr th:only-of-type {\n",
       "        vertical-align: middle;\n",
       "    }\n",
       "\n",
       "    .dataframe tbody tr th {\n",
       "        vertical-align: top;\n",
       "    }\n",
       "\n",
       "    .dataframe thead th {\n",
       "        text-align: right;\n",
       "    }\n",
       "</style>\n",
       "<table border=\"1\" class=\"dataframe\">\n",
       "  <thead>\n",
       "    <tr style=\"text-align: right;\">\n",
       "      <th></th>\n",
       "      <th>id</th>\n",
       "      <th>battery_power</th>\n",
       "      <th>blue</th>\n",
       "      <th>clock_speed</th>\n",
       "      <th>dual_sim</th>\n",
       "      <th>fc</th>\n",
       "      <th>four_g</th>\n",
       "      <th>int_memory</th>\n",
       "      <th>m_dep</th>\n",
       "      <th>mobile_wt</th>\n",
       "      <th>...</th>\n",
       "      <th>pc</th>\n",
       "      <th>px_height</th>\n",
       "      <th>px_width</th>\n",
       "      <th>ram</th>\n",
       "      <th>sc_h</th>\n",
       "      <th>sc_w</th>\n",
       "      <th>talk_time</th>\n",
       "      <th>three_g</th>\n",
       "      <th>touch_screen</th>\n",
       "      <th>wifi</th>\n",
       "    </tr>\n",
       "  </thead>\n",
       "  <tbody>\n",
       "    <tr>\n",
       "      <th>0</th>\n",
       "      <td>1</td>\n",
       "      <td>1043</td>\n",
       "      <td>1</td>\n",
       "      <td>1.8</td>\n",
       "      <td>1</td>\n",
       "      <td>14</td>\n",
       "      <td>0</td>\n",
       "      <td>5</td>\n",
       "      <td>0.1</td>\n",
       "      <td>193</td>\n",
       "      <td>...</td>\n",
       "      <td>16</td>\n",
       "      <td>226</td>\n",
       "      <td>1412</td>\n",
       "      <td>3476</td>\n",
       "      <td>12</td>\n",
       "      <td>7</td>\n",
       "      <td>2</td>\n",
       "      <td>0</td>\n",
       "      <td>1</td>\n",
       "      <td>0</td>\n",
       "    </tr>\n",
       "    <tr>\n",
       "      <th>1</th>\n",
       "      <td>2</td>\n",
       "      <td>841</td>\n",
       "      <td>1</td>\n",
       "      <td>0.5</td>\n",
       "      <td>1</td>\n",
       "      <td>4</td>\n",
       "      <td>1</td>\n",
       "      <td>61</td>\n",
       "      <td>0.8</td>\n",
       "      <td>191</td>\n",
       "      <td>...</td>\n",
       "      <td>12</td>\n",
       "      <td>746</td>\n",
       "      <td>857</td>\n",
       "      <td>3895</td>\n",
       "      <td>6</td>\n",
       "      <td>0</td>\n",
       "      <td>7</td>\n",
       "      <td>1</td>\n",
       "      <td>0</td>\n",
       "      <td>0</td>\n",
       "    </tr>\n",
       "    <tr>\n",
       "      <th>2</th>\n",
       "      <td>3</td>\n",
       "      <td>1807</td>\n",
       "      <td>1</td>\n",
       "      <td>2.8</td>\n",
       "      <td>0</td>\n",
       "      <td>1</td>\n",
       "      <td>0</td>\n",
       "      <td>27</td>\n",
       "      <td>0.9</td>\n",
       "      <td>186</td>\n",
       "      <td>...</td>\n",
       "      <td>4</td>\n",
       "      <td>1270</td>\n",
       "      <td>1366</td>\n",
       "      <td>2396</td>\n",
       "      <td>17</td>\n",
       "      <td>10</td>\n",
       "      <td>10</td>\n",
       "      <td>0</td>\n",
       "      <td>1</td>\n",
       "      <td>1</td>\n",
       "    </tr>\n",
       "    <tr>\n",
       "      <th>3</th>\n",
       "      <td>4</td>\n",
       "      <td>1546</td>\n",
       "      <td>0</td>\n",
       "      <td>0.5</td>\n",
       "      <td>1</td>\n",
       "      <td>18</td>\n",
       "      <td>1</td>\n",
       "      <td>25</td>\n",
       "      <td>0.5</td>\n",
       "      <td>96</td>\n",
       "      <td>...</td>\n",
       "      <td>20</td>\n",
       "      <td>295</td>\n",
       "      <td>1752</td>\n",
       "      <td>3893</td>\n",
       "      <td>10</td>\n",
       "      <td>0</td>\n",
       "      <td>7</td>\n",
       "      <td>1</td>\n",
       "      <td>1</td>\n",
       "      <td>0</td>\n",
       "    </tr>\n",
       "    <tr>\n",
       "      <th>4</th>\n",
       "      <td>5</td>\n",
       "      <td>1434</td>\n",
       "      <td>0</td>\n",
       "      <td>1.4</td>\n",
       "      <td>0</td>\n",
       "      <td>11</td>\n",
       "      <td>1</td>\n",
       "      <td>49</td>\n",
       "      <td>0.5</td>\n",
       "      <td>108</td>\n",
       "      <td>...</td>\n",
       "      <td>18</td>\n",
       "      <td>749</td>\n",
       "      <td>810</td>\n",
       "      <td>1773</td>\n",
       "      <td>15</td>\n",
       "      <td>8</td>\n",
       "      <td>7</td>\n",
       "      <td>1</td>\n",
       "      <td>0</td>\n",
       "      <td>1</td>\n",
       "    </tr>\n",
       "    <tr>\n",
       "      <th>...</th>\n",
       "      <td>...</td>\n",
       "      <td>...</td>\n",
       "      <td>...</td>\n",
       "      <td>...</td>\n",
       "      <td>...</td>\n",
       "      <td>...</td>\n",
       "      <td>...</td>\n",
       "      <td>...</td>\n",
       "      <td>...</td>\n",
       "      <td>...</td>\n",
       "      <td>...</td>\n",
       "      <td>...</td>\n",
       "      <td>...</td>\n",
       "      <td>...</td>\n",
       "      <td>...</td>\n",
       "      <td>...</td>\n",
       "      <td>...</td>\n",
       "      <td>...</td>\n",
       "      <td>...</td>\n",
       "      <td>...</td>\n",
       "      <td>...</td>\n",
       "    </tr>\n",
       "    <tr>\n",
       "      <th>995</th>\n",
       "      <td>996</td>\n",
       "      <td>1700</td>\n",
       "      <td>1</td>\n",
       "      <td>1.9</td>\n",
       "      <td>0</td>\n",
       "      <td>0</td>\n",
       "      <td>1</td>\n",
       "      <td>54</td>\n",
       "      <td>0.5</td>\n",
       "      <td>170</td>\n",
       "      <td>...</td>\n",
       "      <td>17</td>\n",
       "      <td>644</td>\n",
       "      <td>913</td>\n",
       "      <td>2121</td>\n",
       "      <td>14</td>\n",
       "      <td>8</td>\n",
       "      <td>15</td>\n",
       "      <td>1</td>\n",
       "      <td>1</td>\n",
       "      <td>0</td>\n",
       "    </tr>\n",
       "    <tr>\n",
       "      <th>996</th>\n",
       "      <td>997</td>\n",
       "      <td>609</td>\n",
       "      <td>0</td>\n",
       "      <td>1.8</td>\n",
       "      <td>1</td>\n",
       "      <td>0</td>\n",
       "      <td>0</td>\n",
       "      <td>13</td>\n",
       "      <td>0.9</td>\n",
       "      <td>186</td>\n",
       "      <td>...</td>\n",
       "      <td>2</td>\n",
       "      <td>1152</td>\n",
       "      <td>1632</td>\n",
       "      <td>1933</td>\n",
       "      <td>8</td>\n",
       "      <td>1</td>\n",
       "      <td>19</td>\n",
       "      <td>0</td>\n",
       "      <td>1</td>\n",
       "      <td>1</td>\n",
       "    </tr>\n",
       "    <tr>\n",
       "      <th>997</th>\n",
       "      <td>998</td>\n",
       "      <td>1185</td>\n",
       "      <td>0</td>\n",
       "      <td>1.4</td>\n",
       "      <td>0</td>\n",
       "      <td>1</td>\n",
       "      <td>1</td>\n",
       "      <td>8</td>\n",
       "      <td>0.5</td>\n",
       "      <td>80</td>\n",
       "      <td>...</td>\n",
       "      <td>12</td>\n",
       "      <td>477</td>\n",
       "      <td>825</td>\n",
       "      <td>1223</td>\n",
       "      <td>5</td>\n",
       "      <td>0</td>\n",
       "      <td>14</td>\n",
       "      <td>1</td>\n",
       "      <td>0</td>\n",
       "      <td>0</td>\n",
       "    </tr>\n",
       "    <tr>\n",
       "      <th>998</th>\n",
       "      <td>999</td>\n",
       "      <td>1533</td>\n",
       "      <td>1</td>\n",
       "      <td>0.5</td>\n",
       "      <td>1</td>\n",
       "      <td>0</td>\n",
       "      <td>0</td>\n",
       "      <td>50</td>\n",
       "      <td>0.4</td>\n",
       "      <td>171</td>\n",
       "      <td>...</td>\n",
       "      <td>12</td>\n",
       "      <td>38</td>\n",
       "      <td>832</td>\n",
       "      <td>2509</td>\n",
       "      <td>15</td>\n",
       "      <td>11</td>\n",
       "      <td>6</td>\n",
       "      <td>0</td>\n",
       "      <td>1</td>\n",
       "      <td>0</td>\n",
       "    </tr>\n",
       "    <tr>\n",
       "      <th>999</th>\n",
       "      <td>1000</td>\n",
       "      <td>1270</td>\n",
       "      <td>1</td>\n",
       "      <td>0.5</td>\n",
       "      <td>0</td>\n",
       "      <td>4</td>\n",
       "      <td>1</td>\n",
       "      <td>35</td>\n",
       "      <td>0.1</td>\n",
       "      <td>140</td>\n",
       "      <td>...</td>\n",
       "      <td>19</td>\n",
       "      <td>457</td>\n",
       "      <td>608</td>\n",
       "      <td>2828</td>\n",
       "      <td>9</td>\n",
       "      <td>2</td>\n",
       "      <td>3</td>\n",
       "      <td>1</td>\n",
       "      <td>0</td>\n",
       "      <td>1</td>\n",
       "    </tr>\n",
       "  </tbody>\n",
       "</table>\n",
       "<p>1000 rows × 21 columns</p>\n",
       "</div>"
      ],
      "text/plain": [
       "       id  battery_power  blue  clock_speed  dual_sim  fc  four_g  int_memory  \\\n",
       "0       1           1043     1          1.8         1  14       0           5   \n",
       "1       2            841     1          0.5         1   4       1          61   \n",
       "2       3           1807     1          2.8         0   1       0          27   \n",
       "3       4           1546     0          0.5         1  18       1          25   \n",
       "4       5           1434     0          1.4         0  11       1          49   \n",
       "..    ...            ...   ...          ...       ...  ..     ...         ...   \n",
       "995   996           1700     1          1.9         0   0       1          54   \n",
       "996   997            609     0          1.8         1   0       0          13   \n",
       "997   998           1185     0          1.4         0   1       1           8   \n",
       "998   999           1533     1          0.5         1   0       0          50   \n",
       "999  1000           1270     1          0.5         0   4       1          35   \n",
       "\n",
       "     m_dep  mobile_wt  ...  pc  px_height  px_width   ram  sc_h  sc_w  \\\n",
       "0      0.1        193  ...  16        226      1412  3476    12     7   \n",
       "1      0.8        191  ...  12        746       857  3895     6     0   \n",
       "2      0.9        186  ...   4       1270      1366  2396    17    10   \n",
       "3      0.5         96  ...  20        295      1752  3893    10     0   \n",
       "4      0.5        108  ...  18        749       810  1773    15     8   \n",
       "..     ...        ...  ...  ..        ...       ...   ...   ...   ...   \n",
       "995    0.5        170  ...  17        644       913  2121    14     8   \n",
       "996    0.9        186  ...   2       1152      1632  1933     8     1   \n",
       "997    0.5         80  ...  12        477       825  1223     5     0   \n",
       "998    0.4        171  ...  12         38       832  2509    15    11   \n",
       "999    0.1        140  ...  19        457       608  2828     9     2   \n",
       "\n",
       "     talk_time  three_g  touch_screen  wifi  \n",
       "0            2        0             1     0  \n",
       "1            7        1             0     0  \n",
       "2           10        0             1     1  \n",
       "3            7        1             1     0  \n",
       "4            7        1             0     1  \n",
       "..         ...      ...           ...   ...  \n",
       "995         15        1             1     0  \n",
       "996         19        0             1     1  \n",
       "997         14        1             0     0  \n",
       "998          6        0             1     0  \n",
       "999          3        1             0     1  \n",
       "\n",
       "[1000 rows x 21 columns]"
      ]
     },
     "execution_count": 4,
     "metadata": {},
     "output_type": "execute_result"
    }
   ],
   "source": [
    "df"
   ]
  },
  {
   "cell_type": "code",
   "execution_count": 5,
   "id": "84dc2f61",
   "metadata": {},
   "outputs": [],
   "source": [
    "df = df.drop(['id'], axis =1)"
   ]
  },
  {
   "cell_type": "code",
   "execution_count": 6,
   "id": "696255db",
   "metadata": {},
   "outputs": [
    {
     "data": {
      "text/html": [
       "<div>\n",
       "<style scoped>\n",
       "    .dataframe tbody tr th:only-of-type {\n",
       "        vertical-align: middle;\n",
       "    }\n",
       "\n",
       "    .dataframe tbody tr th {\n",
       "        vertical-align: top;\n",
       "    }\n",
       "\n",
       "    .dataframe thead th {\n",
       "        text-align: right;\n",
       "    }\n",
       "</style>\n",
       "<table border=\"1\" class=\"dataframe\">\n",
       "  <thead>\n",
       "    <tr style=\"text-align: right;\">\n",
       "      <th></th>\n",
       "      <th>battery_power</th>\n",
       "      <th>blue</th>\n",
       "      <th>clock_speed</th>\n",
       "      <th>dual_sim</th>\n",
       "      <th>fc</th>\n",
       "      <th>four_g</th>\n",
       "      <th>int_memory</th>\n",
       "      <th>m_dep</th>\n",
       "      <th>mobile_wt</th>\n",
       "      <th>n_cores</th>\n",
       "      <th>pc</th>\n",
       "      <th>px_height</th>\n",
       "      <th>px_width</th>\n",
       "      <th>ram</th>\n",
       "      <th>sc_h</th>\n",
       "      <th>sc_w</th>\n",
       "      <th>talk_time</th>\n",
       "      <th>three_g</th>\n",
       "      <th>touch_screen</th>\n",
       "      <th>wifi</th>\n",
       "    </tr>\n",
       "  </thead>\n",
       "  <tbody>\n",
       "    <tr>\n",
       "      <th>0</th>\n",
       "      <td>1043</td>\n",
       "      <td>1</td>\n",
       "      <td>1.8</td>\n",
       "      <td>1</td>\n",
       "      <td>14</td>\n",
       "      <td>0</td>\n",
       "      <td>5</td>\n",
       "      <td>0.1</td>\n",
       "      <td>193</td>\n",
       "      <td>3</td>\n",
       "      <td>16</td>\n",
       "      <td>226</td>\n",
       "      <td>1412</td>\n",
       "      <td>3476</td>\n",
       "      <td>12</td>\n",
       "      <td>7</td>\n",
       "      <td>2</td>\n",
       "      <td>0</td>\n",
       "      <td>1</td>\n",
       "      <td>0</td>\n",
       "    </tr>\n",
       "    <tr>\n",
       "      <th>1</th>\n",
       "      <td>841</td>\n",
       "      <td>1</td>\n",
       "      <td>0.5</td>\n",
       "      <td>1</td>\n",
       "      <td>4</td>\n",
       "      <td>1</td>\n",
       "      <td>61</td>\n",
       "      <td>0.8</td>\n",
       "      <td>191</td>\n",
       "      <td>5</td>\n",
       "      <td>12</td>\n",
       "      <td>746</td>\n",
       "      <td>857</td>\n",
       "      <td>3895</td>\n",
       "      <td>6</td>\n",
       "      <td>0</td>\n",
       "      <td>7</td>\n",
       "      <td>1</td>\n",
       "      <td>0</td>\n",
       "      <td>0</td>\n",
       "    </tr>\n",
       "    <tr>\n",
       "      <th>2</th>\n",
       "      <td>1807</td>\n",
       "      <td>1</td>\n",
       "      <td>2.8</td>\n",
       "      <td>0</td>\n",
       "      <td>1</td>\n",
       "      <td>0</td>\n",
       "      <td>27</td>\n",
       "      <td>0.9</td>\n",
       "      <td>186</td>\n",
       "      <td>3</td>\n",
       "      <td>4</td>\n",
       "      <td>1270</td>\n",
       "      <td>1366</td>\n",
       "      <td>2396</td>\n",
       "      <td>17</td>\n",
       "      <td>10</td>\n",
       "      <td>10</td>\n",
       "      <td>0</td>\n",
       "      <td>1</td>\n",
       "      <td>1</td>\n",
       "    </tr>\n",
       "    <tr>\n",
       "      <th>3</th>\n",
       "      <td>1546</td>\n",
       "      <td>0</td>\n",
       "      <td>0.5</td>\n",
       "      <td>1</td>\n",
       "      <td>18</td>\n",
       "      <td>1</td>\n",
       "      <td>25</td>\n",
       "      <td>0.5</td>\n",
       "      <td>96</td>\n",
       "      <td>8</td>\n",
       "      <td>20</td>\n",
       "      <td>295</td>\n",
       "      <td>1752</td>\n",
       "      <td>3893</td>\n",
       "      <td>10</td>\n",
       "      <td>0</td>\n",
       "      <td>7</td>\n",
       "      <td>1</td>\n",
       "      <td>1</td>\n",
       "      <td>0</td>\n",
       "    </tr>\n",
       "    <tr>\n",
       "      <th>4</th>\n",
       "      <td>1434</td>\n",
       "      <td>0</td>\n",
       "      <td>1.4</td>\n",
       "      <td>0</td>\n",
       "      <td>11</td>\n",
       "      <td>1</td>\n",
       "      <td>49</td>\n",
       "      <td>0.5</td>\n",
       "      <td>108</td>\n",
       "      <td>6</td>\n",
       "      <td>18</td>\n",
       "      <td>749</td>\n",
       "      <td>810</td>\n",
       "      <td>1773</td>\n",
       "      <td>15</td>\n",
       "      <td>8</td>\n",
       "      <td>7</td>\n",
       "      <td>1</td>\n",
       "      <td>0</td>\n",
       "      <td>1</td>\n",
       "    </tr>\n",
       "    <tr>\n",
       "      <th>...</th>\n",
       "      <td>...</td>\n",
       "      <td>...</td>\n",
       "      <td>...</td>\n",
       "      <td>...</td>\n",
       "      <td>...</td>\n",
       "      <td>...</td>\n",
       "      <td>...</td>\n",
       "      <td>...</td>\n",
       "      <td>...</td>\n",
       "      <td>...</td>\n",
       "      <td>...</td>\n",
       "      <td>...</td>\n",
       "      <td>...</td>\n",
       "      <td>...</td>\n",
       "      <td>...</td>\n",
       "      <td>...</td>\n",
       "      <td>...</td>\n",
       "      <td>...</td>\n",
       "      <td>...</td>\n",
       "      <td>...</td>\n",
       "    </tr>\n",
       "    <tr>\n",
       "      <th>995</th>\n",
       "      <td>1700</td>\n",
       "      <td>1</td>\n",
       "      <td>1.9</td>\n",
       "      <td>0</td>\n",
       "      <td>0</td>\n",
       "      <td>1</td>\n",
       "      <td>54</td>\n",
       "      <td>0.5</td>\n",
       "      <td>170</td>\n",
       "      <td>7</td>\n",
       "      <td>17</td>\n",
       "      <td>644</td>\n",
       "      <td>913</td>\n",
       "      <td>2121</td>\n",
       "      <td>14</td>\n",
       "      <td>8</td>\n",
       "      <td>15</td>\n",
       "      <td>1</td>\n",
       "      <td>1</td>\n",
       "      <td>0</td>\n",
       "    </tr>\n",
       "    <tr>\n",
       "      <th>996</th>\n",
       "      <td>609</td>\n",
       "      <td>0</td>\n",
       "      <td>1.8</td>\n",
       "      <td>1</td>\n",
       "      <td>0</td>\n",
       "      <td>0</td>\n",
       "      <td>13</td>\n",
       "      <td>0.9</td>\n",
       "      <td>186</td>\n",
       "      <td>4</td>\n",
       "      <td>2</td>\n",
       "      <td>1152</td>\n",
       "      <td>1632</td>\n",
       "      <td>1933</td>\n",
       "      <td>8</td>\n",
       "      <td>1</td>\n",
       "      <td>19</td>\n",
       "      <td>0</td>\n",
       "      <td>1</td>\n",
       "      <td>1</td>\n",
       "    </tr>\n",
       "    <tr>\n",
       "      <th>997</th>\n",
       "      <td>1185</td>\n",
       "      <td>0</td>\n",
       "      <td>1.4</td>\n",
       "      <td>0</td>\n",
       "      <td>1</td>\n",
       "      <td>1</td>\n",
       "      <td>8</td>\n",
       "      <td>0.5</td>\n",
       "      <td>80</td>\n",
       "      <td>1</td>\n",
       "      <td>12</td>\n",
       "      <td>477</td>\n",
       "      <td>825</td>\n",
       "      <td>1223</td>\n",
       "      <td>5</td>\n",
       "      <td>0</td>\n",
       "      <td>14</td>\n",
       "      <td>1</td>\n",
       "      <td>0</td>\n",
       "      <td>0</td>\n",
       "    </tr>\n",
       "    <tr>\n",
       "      <th>998</th>\n",
       "      <td>1533</td>\n",
       "      <td>1</td>\n",
       "      <td>0.5</td>\n",
       "      <td>1</td>\n",
       "      <td>0</td>\n",
       "      <td>0</td>\n",
       "      <td>50</td>\n",
       "      <td>0.4</td>\n",
       "      <td>171</td>\n",
       "      <td>2</td>\n",
       "      <td>12</td>\n",
       "      <td>38</td>\n",
       "      <td>832</td>\n",
       "      <td>2509</td>\n",
       "      <td>15</td>\n",
       "      <td>11</td>\n",
       "      <td>6</td>\n",
       "      <td>0</td>\n",
       "      <td>1</td>\n",
       "      <td>0</td>\n",
       "    </tr>\n",
       "    <tr>\n",
       "      <th>999</th>\n",
       "      <td>1270</td>\n",
       "      <td>1</td>\n",
       "      <td>0.5</td>\n",
       "      <td>0</td>\n",
       "      <td>4</td>\n",
       "      <td>1</td>\n",
       "      <td>35</td>\n",
       "      <td>0.1</td>\n",
       "      <td>140</td>\n",
       "      <td>6</td>\n",
       "      <td>19</td>\n",
       "      <td>457</td>\n",
       "      <td>608</td>\n",
       "      <td>2828</td>\n",
       "      <td>9</td>\n",
       "      <td>2</td>\n",
       "      <td>3</td>\n",
       "      <td>1</td>\n",
       "      <td>0</td>\n",
       "      <td>1</td>\n",
       "    </tr>\n",
       "  </tbody>\n",
       "</table>\n",
       "<p>1000 rows × 20 columns</p>\n",
       "</div>"
      ],
      "text/plain": [
       "     battery_power  blue  clock_speed  dual_sim  fc  four_g  int_memory  \\\n",
       "0             1043     1          1.8         1  14       0           5   \n",
       "1              841     1          0.5         1   4       1          61   \n",
       "2             1807     1          2.8         0   1       0          27   \n",
       "3             1546     0          0.5         1  18       1          25   \n",
       "4             1434     0          1.4         0  11       1          49   \n",
       "..             ...   ...          ...       ...  ..     ...         ...   \n",
       "995           1700     1          1.9         0   0       1          54   \n",
       "996            609     0          1.8         1   0       0          13   \n",
       "997           1185     0          1.4         0   1       1           8   \n",
       "998           1533     1          0.5         1   0       0          50   \n",
       "999           1270     1          0.5         0   4       1          35   \n",
       "\n",
       "     m_dep  mobile_wt  n_cores  pc  px_height  px_width   ram  sc_h  sc_w  \\\n",
       "0      0.1        193        3  16        226      1412  3476    12     7   \n",
       "1      0.8        191        5  12        746       857  3895     6     0   \n",
       "2      0.9        186        3   4       1270      1366  2396    17    10   \n",
       "3      0.5         96        8  20        295      1752  3893    10     0   \n",
       "4      0.5        108        6  18        749       810  1773    15     8   \n",
       "..     ...        ...      ...  ..        ...       ...   ...   ...   ...   \n",
       "995    0.5        170        7  17        644       913  2121    14     8   \n",
       "996    0.9        186        4   2       1152      1632  1933     8     1   \n",
       "997    0.5         80        1  12        477       825  1223     5     0   \n",
       "998    0.4        171        2  12         38       832  2509    15    11   \n",
       "999    0.1        140        6  19        457       608  2828     9     2   \n",
       "\n",
       "     talk_time  three_g  touch_screen  wifi  \n",
       "0            2        0             1     0  \n",
       "1            7        1             0     0  \n",
       "2           10        0             1     1  \n",
       "3            7        1             1     0  \n",
       "4            7        1             0     1  \n",
       "..         ...      ...           ...   ...  \n",
       "995         15        1             1     0  \n",
       "996         19        0             1     1  \n",
       "997         14        1             0     0  \n",
       "998          6        0             1     0  \n",
       "999          3        1             0     1  \n",
       "\n",
       "[1000 rows x 20 columns]"
      ]
     },
     "execution_count": 6,
     "metadata": {},
     "output_type": "execute_result"
    }
   ],
   "source": [
    "df"
   ]
  },
  {
   "cell_type": "code",
   "execution_count": 7,
   "id": "f76cd78b",
   "metadata": {},
   "outputs": [
    {
     "data": {
      "text/plain": [
       "(1000, 20)"
      ]
     },
     "execution_count": 7,
     "metadata": {},
     "output_type": "execute_result"
    }
   ],
   "source": [
    "df.shape"
   ]
  },
  {
   "cell_type": "code",
   "execution_count": 8,
   "id": "57b3f804",
   "metadata": {},
   "outputs": [
    {
     "data": {
      "text/plain": [
       "Index(['battery_power', 'blue', 'clock_speed', 'dual_sim', 'fc', 'four_g',\n",
       "       'int_memory', 'm_dep', 'mobile_wt', 'n_cores', 'pc', 'px_height',\n",
       "       'px_width', 'ram', 'sc_h', 'sc_w', 'talk_time', 'three_g',\n",
       "       'touch_screen', 'wifi'],\n",
       "      dtype='object')"
      ]
     },
     "execution_count": 8,
     "metadata": {},
     "output_type": "execute_result"
    }
   ],
   "source": [
    "df.columns"
   ]
  },
  {
   "cell_type": "code",
   "execution_count": 9,
   "id": "2c34353c",
   "metadata": {},
   "outputs": [
    {
     "data": {
      "text/html": [
       "<div>\n",
       "<style scoped>\n",
       "    .dataframe tbody tr th:only-of-type {\n",
       "        vertical-align: middle;\n",
       "    }\n",
       "\n",
       "    .dataframe tbody tr th {\n",
       "        vertical-align: top;\n",
       "    }\n",
       "\n",
       "    .dataframe thead th {\n",
       "        text-align: right;\n",
       "    }\n",
       "</style>\n",
       "<table border=\"1\" class=\"dataframe\">\n",
       "  <thead>\n",
       "    <tr style=\"text-align: right;\">\n",
       "      <th></th>\n",
       "      <th>battery_power</th>\n",
       "      <th>blue</th>\n",
       "      <th>clock_speed</th>\n",
       "      <th>dual_sim</th>\n",
       "      <th>fc</th>\n",
       "      <th>four_g</th>\n",
       "      <th>int_memory</th>\n",
       "      <th>m_dep</th>\n",
       "      <th>mobile_wt</th>\n",
       "      <th>n_cores</th>\n",
       "      <th>pc</th>\n",
       "      <th>px_height</th>\n",
       "      <th>px_width</th>\n",
       "      <th>ram</th>\n",
       "      <th>sc_h</th>\n",
       "      <th>sc_w</th>\n",
       "      <th>talk_time</th>\n",
       "      <th>three_g</th>\n",
       "      <th>touch_screen</th>\n",
       "      <th>wifi</th>\n",
       "    </tr>\n",
       "  </thead>\n",
       "  <tbody>\n",
       "    <tr>\n",
       "      <th>count</th>\n",
       "      <td>1000.000000</td>\n",
       "      <td>1000.000000</td>\n",
       "      <td>1000.000000</td>\n",
       "      <td>1000.000000</td>\n",
       "      <td>1000.000000</td>\n",
       "      <td>1000.000000</td>\n",
       "      <td>1000.000000</td>\n",
       "      <td>1000.000000</td>\n",
       "      <td>1000.00000</td>\n",
       "      <td>1000.000000</td>\n",
       "      <td>1000.000000</td>\n",
       "      <td>1000.000000</td>\n",
       "      <td>1000.000000</td>\n",
       "      <td>1000.000000</td>\n",
       "      <td>1000.000000</td>\n",
       "      <td>1000.000000</td>\n",
       "      <td>1000.000000</td>\n",
       "      <td>1000.000000</td>\n",
       "      <td>1000.00000</td>\n",
       "      <td>1000.000000</td>\n",
       "    </tr>\n",
       "    <tr>\n",
       "      <th>mean</th>\n",
       "      <td>1248.510000</td>\n",
       "      <td>0.516000</td>\n",
       "      <td>1.540900</td>\n",
       "      <td>0.517000</td>\n",
       "      <td>4.593000</td>\n",
       "      <td>0.487000</td>\n",
       "      <td>33.652000</td>\n",
       "      <td>0.517500</td>\n",
       "      <td>139.51100</td>\n",
       "      <td>4.328000</td>\n",
       "      <td>10.054000</td>\n",
       "      <td>627.121000</td>\n",
       "      <td>1239.774000</td>\n",
       "      <td>2138.998000</td>\n",
       "      <td>11.995000</td>\n",
       "      <td>5.316000</td>\n",
       "      <td>11.085000</td>\n",
       "      <td>0.756000</td>\n",
       "      <td>0.50000</td>\n",
       "      <td>0.507000</td>\n",
       "    </tr>\n",
       "    <tr>\n",
       "      <th>std</th>\n",
       "      <td>432.458227</td>\n",
       "      <td>0.499994</td>\n",
       "      <td>0.829268</td>\n",
       "      <td>0.499961</td>\n",
       "      <td>4.463325</td>\n",
       "      <td>0.500081</td>\n",
       "      <td>18.128694</td>\n",
       "      <td>0.280861</td>\n",
       "      <td>34.85155</td>\n",
       "      <td>2.288155</td>\n",
       "      <td>6.095099</td>\n",
       "      <td>432.929699</td>\n",
       "      <td>439.670981</td>\n",
       "      <td>1088.092278</td>\n",
       "      <td>4.320607</td>\n",
       "      <td>4.240062</td>\n",
       "      <td>5.497636</td>\n",
       "      <td>0.429708</td>\n",
       "      <td>0.50025</td>\n",
       "      <td>0.500201</td>\n",
       "    </tr>\n",
       "    <tr>\n",
       "      <th>min</th>\n",
       "      <td>500.000000</td>\n",
       "      <td>0.000000</td>\n",
       "      <td>0.500000</td>\n",
       "      <td>0.000000</td>\n",
       "      <td>0.000000</td>\n",
       "      <td>0.000000</td>\n",
       "      <td>2.000000</td>\n",
       "      <td>0.100000</td>\n",
       "      <td>80.00000</td>\n",
       "      <td>1.000000</td>\n",
       "      <td>0.000000</td>\n",
       "      <td>0.000000</td>\n",
       "      <td>501.000000</td>\n",
       "      <td>263.000000</td>\n",
       "      <td>5.000000</td>\n",
       "      <td>0.000000</td>\n",
       "      <td>2.000000</td>\n",
       "      <td>0.000000</td>\n",
       "      <td>0.00000</td>\n",
       "      <td>0.000000</td>\n",
       "    </tr>\n",
       "    <tr>\n",
       "      <th>25%</th>\n",
       "      <td>895.000000</td>\n",
       "      <td>0.000000</td>\n",
       "      <td>0.700000</td>\n",
       "      <td>0.000000</td>\n",
       "      <td>1.000000</td>\n",
       "      <td>0.000000</td>\n",
       "      <td>18.000000</td>\n",
       "      <td>0.300000</td>\n",
       "      <td>109.75000</td>\n",
       "      <td>2.000000</td>\n",
       "      <td>5.000000</td>\n",
       "      <td>263.750000</td>\n",
       "      <td>831.750000</td>\n",
       "      <td>1237.250000</td>\n",
       "      <td>8.000000</td>\n",
       "      <td>2.000000</td>\n",
       "      <td>6.750000</td>\n",
       "      <td>1.000000</td>\n",
       "      <td>0.00000</td>\n",
       "      <td>0.000000</td>\n",
       "    </tr>\n",
       "    <tr>\n",
       "      <th>50%</th>\n",
       "      <td>1246.500000</td>\n",
       "      <td>1.000000</td>\n",
       "      <td>1.500000</td>\n",
       "      <td>1.000000</td>\n",
       "      <td>3.000000</td>\n",
       "      <td>0.000000</td>\n",
       "      <td>34.500000</td>\n",
       "      <td>0.500000</td>\n",
       "      <td>139.00000</td>\n",
       "      <td>4.000000</td>\n",
       "      <td>10.000000</td>\n",
       "      <td>564.500000</td>\n",
       "      <td>1250.000000</td>\n",
       "      <td>2153.500000</td>\n",
       "      <td>12.000000</td>\n",
       "      <td>5.000000</td>\n",
       "      <td>11.000000</td>\n",
       "      <td>1.000000</td>\n",
       "      <td>0.50000</td>\n",
       "      <td>1.000000</td>\n",
       "    </tr>\n",
       "    <tr>\n",
       "      <th>75%</th>\n",
       "      <td>1629.250000</td>\n",
       "      <td>1.000000</td>\n",
       "      <td>2.300000</td>\n",
       "      <td>1.000000</td>\n",
       "      <td>7.000000</td>\n",
       "      <td>1.000000</td>\n",
       "      <td>49.000000</td>\n",
       "      <td>0.800000</td>\n",
       "      <td>170.00000</td>\n",
       "      <td>6.000000</td>\n",
       "      <td>16.000000</td>\n",
       "      <td>903.000000</td>\n",
       "      <td>1637.750000</td>\n",
       "      <td>3065.500000</td>\n",
       "      <td>16.000000</td>\n",
       "      <td>8.000000</td>\n",
       "      <td>16.000000</td>\n",
       "      <td>1.000000</td>\n",
       "      <td>1.00000</td>\n",
       "      <td>1.000000</td>\n",
       "    </tr>\n",
       "    <tr>\n",
       "      <th>max</th>\n",
       "      <td>1999.000000</td>\n",
       "      <td>1.000000</td>\n",
       "      <td>3.000000</td>\n",
       "      <td>1.000000</td>\n",
       "      <td>19.000000</td>\n",
       "      <td>1.000000</td>\n",
       "      <td>64.000000</td>\n",
       "      <td>1.000000</td>\n",
       "      <td>200.00000</td>\n",
       "      <td>8.000000</td>\n",
       "      <td>20.000000</td>\n",
       "      <td>1907.000000</td>\n",
       "      <td>1998.000000</td>\n",
       "      <td>3989.000000</td>\n",
       "      <td>19.000000</td>\n",
       "      <td>18.000000</td>\n",
       "      <td>20.000000</td>\n",
       "      <td>1.000000</td>\n",
       "      <td>1.00000</td>\n",
       "      <td>1.000000</td>\n",
       "    </tr>\n",
       "  </tbody>\n",
       "</table>\n",
       "</div>"
      ],
      "text/plain": [
       "       battery_power         blue  clock_speed     dual_sim           fc  \\\n",
       "count    1000.000000  1000.000000  1000.000000  1000.000000  1000.000000   \n",
       "mean     1248.510000     0.516000     1.540900     0.517000     4.593000   \n",
       "std       432.458227     0.499994     0.829268     0.499961     4.463325   \n",
       "min       500.000000     0.000000     0.500000     0.000000     0.000000   \n",
       "25%       895.000000     0.000000     0.700000     0.000000     1.000000   \n",
       "50%      1246.500000     1.000000     1.500000     1.000000     3.000000   \n",
       "75%      1629.250000     1.000000     2.300000     1.000000     7.000000   \n",
       "max      1999.000000     1.000000     3.000000     1.000000    19.000000   \n",
       "\n",
       "            four_g   int_memory        m_dep   mobile_wt      n_cores  \\\n",
       "count  1000.000000  1000.000000  1000.000000  1000.00000  1000.000000   \n",
       "mean      0.487000    33.652000     0.517500   139.51100     4.328000   \n",
       "std       0.500081    18.128694     0.280861    34.85155     2.288155   \n",
       "min       0.000000     2.000000     0.100000    80.00000     1.000000   \n",
       "25%       0.000000    18.000000     0.300000   109.75000     2.000000   \n",
       "50%       0.000000    34.500000     0.500000   139.00000     4.000000   \n",
       "75%       1.000000    49.000000     0.800000   170.00000     6.000000   \n",
       "max       1.000000    64.000000     1.000000   200.00000     8.000000   \n",
       "\n",
       "                pc    px_height     px_width          ram         sc_h  \\\n",
       "count  1000.000000  1000.000000  1000.000000  1000.000000  1000.000000   \n",
       "mean     10.054000   627.121000  1239.774000  2138.998000    11.995000   \n",
       "std       6.095099   432.929699   439.670981  1088.092278     4.320607   \n",
       "min       0.000000     0.000000   501.000000   263.000000     5.000000   \n",
       "25%       5.000000   263.750000   831.750000  1237.250000     8.000000   \n",
       "50%      10.000000   564.500000  1250.000000  2153.500000    12.000000   \n",
       "75%      16.000000   903.000000  1637.750000  3065.500000    16.000000   \n",
       "max      20.000000  1907.000000  1998.000000  3989.000000    19.000000   \n",
       "\n",
       "              sc_w    talk_time      three_g  touch_screen         wifi  \n",
       "count  1000.000000  1000.000000  1000.000000    1000.00000  1000.000000  \n",
       "mean      5.316000    11.085000     0.756000       0.50000     0.507000  \n",
       "std       4.240062     5.497636     0.429708       0.50025     0.500201  \n",
       "min       0.000000     2.000000     0.000000       0.00000     0.000000  \n",
       "25%       2.000000     6.750000     1.000000       0.00000     0.000000  \n",
       "50%       5.000000    11.000000     1.000000       0.50000     1.000000  \n",
       "75%       8.000000    16.000000     1.000000       1.00000     1.000000  \n",
       "max      18.000000    20.000000     1.000000       1.00000     1.000000  "
      ]
     },
     "execution_count": 9,
     "metadata": {},
     "output_type": "execute_result"
    }
   ],
   "source": [
    "df.describe()"
   ]
  },
  {
   "cell_type": "code",
   "execution_count": 10,
   "id": "ea322c7d",
   "metadata": {},
   "outputs": [
    {
     "data": {
      "text/plain": [
       "False"
      ]
     },
     "execution_count": 10,
     "metadata": {},
     "output_type": "execute_result"
    }
   ],
   "source": [
    "df.isnull().any().any()"
   ]
  },
  {
   "cell_type": "code",
   "execution_count": 11,
   "id": "8dc394de",
   "metadata": {},
   "outputs": [
    {
     "name": "stdout",
     "output_type": "stream",
     "text": [
      "<class 'pandas.core.frame.DataFrame'>\n",
      "RangeIndex: 1000 entries, 0 to 999\n",
      "Data columns (total 20 columns):\n",
      " #   Column         Non-Null Count  Dtype  \n",
      "---  ------         --------------  -----  \n",
      " 0   battery_power  1000 non-null   int64  \n",
      " 1   blue           1000 non-null   int64  \n",
      " 2   clock_speed    1000 non-null   float64\n",
      " 3   dual_sim       1000 non-null   int64  \n",
      " 4   fc             1000 non-null   int64  \n",
      " 5   four_g         1000 non-null   int64  \n",
      " 6   int_memory     1000 non-null   int64  \n",
      " 7   m_dep          1000 non-null   float64\n",
      " 8   mobile_wt      1000 non-null   int64  \n",
      " 9   n_cores        1000 non-null   int64  \n",
      " 10  pc             1000 non-null   int64  \n",
      " 11  px_height      1000 non-null   int64  \n",
      " 12  px_width       1000 non-null   int64  \n",
      " 13  ram            1000 non-null   int64  \n",
      " 14  sc_h           1000 non-null   int64  \n",
      " 15  sc_w           1000 non-null   int64  \n",
      " 16  talk_time      1000 non-null   int64  \n",
      " 17  three_g        1000 non-null   int64  \n",
      " 18  touch_screen   1000 non-null   int64  \n",
      " 19  wifi           1000 non-null   int64  \n",
      "dtypes: float64(2), int64(18)\n",
      "memory usage: 156.4 KB\n"
     ]
    }
   ],
   "source": [
    "df.info()"
   ]
  },
  {
   "cell_type": "code",
   "execution_count": 12,
   "id": "ec07234d",
   "metadata": {},
   "outputs": [
    {
     "data": {
      "image/png": "[encoded data removed]",
      "text/plain": [
       "<Figure size 432x288 with 1 Axes>"
      ]
     },
     "metadata": {
      "needs_background": "light"
     },
     "output_type": "display_data"
    }
   ],
   "source": [
    "plt.boxplot(df.battery_power)\n",
    "Q1 = df.battery_power.quantile(0.25)\n",
    "Q3 = df.battery_power.quantile(0.75)\n",
    "IQR = Q3 - Q1\n",
    "df = df[(df.battery_power >= Q1 - 1.5*IQR) & (df.battery_power <= Q3 + 1.5*IQR)]"
   ]
  },
  {
   "cell_type": "code",
   "execution_count": 13,
   "id": "ecfa0ce2",
   "metadata": {},
   "outputs": [
    {
     "data": {
      "image/png": "[encoded data removed]",
      "text/plain": [
       "<Figure size 432x288 with 1 Axes>"
      ]
     },
     "metadata": {
      "needs_background": "light"
     },
     "output_type": "display_data"
    }
   ],
   "source": [
    "plt.boxplot(df.blue)\n",
    "Q1 = df.blue.quantile(0.25)\n",
    "Q3 = df.blue.quantile(0.75)\n",
    "IQR = Q3 - Q1\n",
    "df = df[(df.blue >= Q1 - 1.5*IQR) & (df.blue <= Q3 + 1.5*IQR)]"
   ]
  },
  {
   "cell_type": "code",
   "execution_count": 14,
   "id": "d72b9d50",
   "metadata": {},
   "outputs": [
    {
     "data": {
      "image/png": "[encoded data removed]",
      "text/plain": [
       "<Figure size 432x288 with 1 Axes>"
      ]
     },
     "metadata": {
      "needs_background": "light"
     },
     "output_type": "display_data"
    }
   ],
   "source": [
    "plt.boxplot(df.dual_sim)\n",
    "Q1 = df.dual_sim.quantile(0.25)\n",
    "Q3 = df.dual_sim.quantile(0.75)\n",
    "IQR = Q3 - Q1\n",
    "df = df[(df.dual_sim >= Q1 - 1.5*IQR) & (df.dual_sim <= Q3 + 1.5*IQR)]"
   ]
  },
  {
   "cell_type": "code",
   "execution_count": 15,
   "id": "1299640a",
   "metadata": {},
   "outputs": [
    {
     "data": {
      "image/png": "[encoded data removed]",
      "text/plain": [
       "<Figure size 432x288 with 1 Axes>"
      ]
     },
     "metadata": {
      "needs_background": "light"
     },
     "output_type": "display_data"
    }
   ],
   "source": [
    "plt.boxplot(df.fc)\n",
    "Q1 = df.fc.quantile(0.25)\n",
    "Q3 = df.fc.quantile(0.75)\n",
    "IQR = Q3 - Q1\n",
    "df = df[(df.fc >= Q1 - 1.5*IQR) & (df.fc <= Q3 + 1.5*IQR)]"
   ]
  },
  {
   "cell_type": "code",
   "execution_count": 16,
   "id": "c5df6a3a",
   "metadata": {},
   "outputs": [
    {
     "data": {
      "image/png": "[encoded data removed]",
      "text/plain": [
       "<Figure size 432x288 with 1 Axes>"
      ]
     },
     "metadata": {
      "needs_background": "light"
     },
     "output_type": "display_data"
    }
   ],
   "source": [
    "plt.boxplot(df.four_g)\n",
    "Q1 = df.four_g.quantile(0.25)\n",
    "Q3 = df.four_g.quantile(0.75)\n",
    "IQR = Q3 - Q1\n",
    "df = df[(df.four_g >= Q1 - 1.5*IQR) & (df.four_g <= Q3 + 1.5*IQR)]"
   ]
  },
  {
   "cell_type": "code",
   "execution_count": 17,
   "id": "4b886397",
   "metadata": {},
   "outputs": [
    {
     "data": {
      "image/png": "[encoded data removed]",
      "text/plain": [
       "<Figure size 432x288 with 1 Axes>"
      ]
     },
     "metadata": {
      "needs_background": "light"
     },
     "output_type": "display_data"
    }
   ],
   "source": [
    "plt.boxplot(df.int_memory)\n",
    "Q1 = df.int_memory.quantile(0.25)\n",
    "Q3 = df.int_memory.quantile(0.75)\n",
    "IQR = Q3 - Q1\n",
    "df = df[(df.int_memory >= Q1 - 1.5*IQR) & (df.int_memory <= Q3 + 1.5*IQR)]"
   ]
  },
  {
   "cell_type": "code",
   "execution_count": 18,
   "id": "4f06795f",
   "metadata": {},
   "outputs": [
    {
     "data": {
      "image/png": "[encoded data removed]",
      "text/plain": [
       "<Figure size 432x288 with 1 Axes>"
      ]
     },
     "metadata": {
      "needs_background": "light"
     },
     "output_type": "display_data"
    }
   ],
   "source": [
    "plt.boxplot(df.n_cores)\n",
    "Q1 = df.n_cores.quantile(0.25)\n",
    "Q3 = df.n_cores.quantile(0.75)\n",
    "IQR = Q3 - Q1\n",
    "df = df[(df.n_cores >= Q1 - 1.5*IQR) & (df.n_cores <= Q3 + 1.5*IQR)]"
   ]
  },
  {
   "cell_type": "code",
   "execution_count": 19,
   "id": "f8776414",
   "metadata": {},
   "outputs": [
    {
     "data": {
      "image/png": "[encoded data removed]",
      "text/plain": [
       "<Figure size 432x288 with 1 Axes>"
      ]
     },
     "metadata": {
      "needs_background": "light"
     },
     "output_type": "display_data"
    }
   ],
   "source": [
    "plt.boxplot(df.pc)\n",
    "Q1 = df.pc.quantile(0.25)\n",
    "Q3 = df.pc.quantile(0.75)\n",
    "IQR = Q3 - Q1\n",
    "df = df[(df.pc >= Q1 - 1.5*IQR) & (df.pc <= Q3 + 1.5*IQR)]"
   ]
  },
  {
   "cell_type": "code",
   "execution_count": 20,
   "id": "a824f454",
   "metadata": {},
   "outputs": [
    {
     "data": {
      "image/png": "[encoded data removed]",
      "text/plain": [
       "<Figure size 432x288 with 1 Axes>"
      ]
     },
     "metadata": {
      "needs_background": "light"
     },
     "output_type": "display_data"
    }
   ],
   "source": [
    "plt.boxplot(df.ram)\n",
    "Q1 = df.ram.quantile(0.25)\n",
    "Q3 = df.ram.quantile(0.75)\n",
    "IQR = Q3 - Q1\n",
    "df = df[(df.ram >= Q1 - 1.5*IQR) & (df.ram <= Q3 + 1.5*IQR)]"
   ]
  },
  {
   "cell_type": "code",
   "execution_count": 21,
   "id": "f81e8af4",
   "metadata": {},
   "outputs": [
    {
     "data": {
      "image/png": "[encoded data removed]",
      "text/plain": [
       "<Figure size 432x288 with 1 Axes>"
      ]
     },
     "metadata": {
      "needs_background": "light"
     },
     "output_type": "display_data"
    }
   ],
   "source": [
    "plt.boxplot(df.talk_time)\n",
    "Q1 = df.talk_time.quantile(0.25)\n",
    "Q3 = df.talk_time.quantile(0.75)\n",
    "IQR = Q3 - Q1\n",
    "df = df[(df.talk_time >= Q1 - 1.5*IQR) & (df.talk_time <= Q3 + 1.5*IQR)]"
   ]
  },
  {
   "cell_type": "code",
   "execution_count": 22,
   "id": "145f71c5",
   "metadata": {},
   "outputs": [
    {
     "data": {
      "image/png": "[encoded data removed]",
      "text/plain": [
       "<Figure size 432x288 with 1 Axes>"
      ]
     },
     "metadata": {
      "needs_background": "light"
     },
     "output_type": "display_data"
    }
   ],
   "source": [
    "plt.boxplot(df.touch_screen)\n",
    "Q1 = df.touch_screen.quantile(0.25)\n",
    "Q3 = df.touch_screen.quantile(0.75)\n",
    "IQR = Q3 - Q1\n",
    "df = df[(df.touch_screen >= Q1 - 1.5*IQR) & (df.touch_screen <= Q3 + 1.5*IQR)]"
   ]
  },
  {
   "cell_type": "code",
   "execution_count": 23,
   "id": "94dac964",
   "metadata": {},
   "outputs": [
    {
     "data": {
      "image/png": "[encoded data removed]",
      "text/plain": [
       "<Figure size 432x288 with 1 Axes>"
      ]
     },
     "metadata": {
      "needs_background": "light"
     },
     "output_type": "display_data"
    }
   ],
   "source": [
    "plt.boxplot(df.wifi)\n",
    "Q1 = df.wifi.quantile(0.25)\n",
    "Q3 = df.wifi.quantile(0.75)\n",
    "IQR = Q3 - Q1\n",
    "df = df[(df.wifi >= Q1 - 1.5*IQR) & (df.wifi <= Q3 + 1.5*IQR)]"
   ]
  },
  {
   "cell_type": "code",
   "execution_count": 24,
   "id": "c3b44c78",
   "metadata": {},
   "outputs": [
    {
     "data": {
      "image/png": "[encoded data removed]",
      "text/plain": [
       "<Figure size 432x288 with 1 Axes>"
      ]
     },
     "metadata": {
      "needs_background": "light"
     },
     "output_type": "display_data"
    }
   ],
   "source": [
    "plt.boxplot(df.mobile_wt)\n",
    "Q1 = df.mobile_wt.quantile(0.25)\n",
    "Q3 = df.mobile_wt.quantile(0.75)\n",
    "IQR = Q3 - Q1\n",
    "df = df[(df.mobile_wt >= Q1 - 1.5*IQR) & (df.mobile_wt <= Q3 + 1.5*IQR)]"
   ]
  },
  {
   "cell_type": "code",
   "execution_count": 25,
   "id": "131e5ba0",
   "metadata": {},
   "outputs": [
    {
     "data": {
      "image/png": "[encoded data removed]",
      "text/plain": [
       "<Figure size 432x288 with 1 Axes>"
      ]
     },
     "metadata": {
      "needs_background": "light"
     },
     "output_type": "display_data"
    }
   ],
   "source": [
    "plt.boxplot(df.m_dep)\n",
    "Q1 = df.m_dep.quantile(0.25)\n",
    "Q3 = df.m_dep.quantile(0.75)\n",
    "IQR = Q3 - Q1\n",
    "df = df[(df.m_dep >= Q1 - 1.5*IQR) & (df.m_dep <= Q3 + 1.5*IQR)]"
   ]
  },
  {
   "cell_type": "code",
   "execution_count": 26,
   "id": "a5e16c87",
   "metadata": {},
   "outputs": [
    {
     "data": {
      "image/png": "[encoded data removed]",
      "text/plain": [
       "<Figure size 432x288 with 1 Axes>"
      ]
     },
     "metadata": {
      "needs_background": "light"
     },
     "output_type": "display_data"
    }
   ],
   "source": [
    "plt.boxplot(df.px_width)\n",
    "Q1 = df.px_width.quantile(0.25)\n",
    "Q3 = df.px_width.quantile(0.75)\n",
    "IQR = Q3 - Q1\n",
    "df = df[(df.px_width >= Q1 - 1.5*IQR) & (df.px_width <= Q3 + 1.5*IQR)]"
   ]
  },
  {
   "cell_type": "code",
   "execution_count": 27,
   "id": "85d66b31",
   "metadata": {},
   "outputs": [
    {
     "data": {
      "image/png": "[encoded data removed]",
      "text/plain": [
       "<Figure size 432x288 with 1 Axes>"
      ]
     },
     "metadata": {
      "needs_background": "light"
     },
     "output_type": "display_data"
    }
   ],
   "source": [
    "plt.boxplot(df.px_height)\n",
    "Q1 = df.px_height.quantile(0.25)\n",
    "Q3 = df.px_height.quantile(0.75)\n",
    "IQR = Q3 - Q1\n",
    "df = df[(df.px_height >= Q1 - 1.5*IQR) & (df.px_height <= Q3 + 1.5*IQR)]"
   ]
  },
  {
   "cell_type": "code",
   "execution_count": 28,
   "id": "c2845fe3",
   "metadata": {},
   "outputs": [
    {
     "data": {
      "image/png": "[encoded data removed]",
      "text/plain": [
       "<Figure size 432x288 with 1 Axes>"
      ]
     },
     "metadata": {
      "needs_background": "light"
     },
     "output_type": "display_data"
    }
   ],
   "source": [
    "plt.boxplot(df.clock_speed)\n",
    "Q1 = df.clock_speed.quantile(0.25)\n",
    "Q3 = df.clock_speed.quantile(0.75)\n",
    "IQR = Q3 - Q1\n",
    "df = df[(df.clock_speed >= Q1 - 1.5*IQR) & (df.clock_speed <= Q3 + 1.5*IQR)]"
   ]
  },
  {
   "cell_type": "code",
   "execution_count": 29,
   "id": "419b7f35",
   "metadata": {},
   "outputs": [
    {
     "data": {
      "image/png": "[encoded data removed]",
      "text/plain": [
       "<Figure size 432x288 with 1 Axes>"
      ]
     },
     "metadata": {
      "needs_background": "light"
     },
     "output_type": "display_data"
    }
   ],
   "source": [
    "plt.boxplot(df.sc_h)\n",
    "Q1 = df.sc_h.quantile(0.25)\n",
    "Q3 = df.sc_h.quantile(0.75)\n",
    "IQR = Q3 - Q1\n",
    "df = df[(df.sc_h >= Q1 - 1.5*IQR) & (df.sc_h <= Q3 + 1.5*IQR)]"
   ]
  },
  {
   "cell_type": "code",
   "execution_count": 30,
   "id": "63144059",
   "metadata": {},
   "outputs": [
    {
     "data": {
      "image/png": "[encoded data removed]",
      "text/plain": [
       "<Figure size 432x288 with 1 Axes>"
      ]
     },
     "metadata": {
      "needs_background": "light"
     },
     "output_type": "display_data"
    }
   ],
   "source": [
    "plt.boxplot(df.sc_w)\n",
    "Q1 = df.sc_w.quantile(0.25)\n",
    "Q3 = df.sc_w.quantile(0.75)\n",
    "IQR = Q3 - Q1\n",
    "df = df[(df.sc_w >= Q1 - 1.5*IQR) & (df.sc_w <= Q3 + 1.5*IQR)]"
   ]
  },
  {
   "cell_type": "code",
   "execution_count": 31,
   "id": "b5ed2669",
   "metadata": {},
   "outputs": [
    {
     "data": {
      "image/png": "[encoded data removed]",
      "text/plain": [
       "<Figure size 432x288 with 1 Axes>"
      ]
     },
     "metadata": {
      "needs_background": "light"
     },
     "output_type": "display_data"
    }
   ],
   "source": [
    "plt.boxplot(df.three_g)\n",
    "Q1 = df.three_g.quantile(0.25)\n",
    "Q3 = df.three_g.quantile(0.75)\n",
    "IQR = Q3 - Q1\n",
    "df = df[(df.three_g >= Q1 - 1.5*IQR) & (df.three_g <= Q3 + 1.5*IQR)]"
   ]
  },
  {
   "cell_type": "code",
   "execution_count": 32,
   "id": "3899c90c",
   "metadata": {},
   "outputs": [
    {
     "data": {
      "text/plain": [
       "<AxesSubplot:>"
      ]
     },
     "execution_count": 32,
     "metadata": {},
     "output_type": "execute_result"
    },
    {
     "data": {
      "image/png": "[encoded data removed]",
      "text/plain": [
       "<Figure size 1080x1080 with 2 Axes>"
      ]
     },
     "metadata": {
      "needs_background": "light"
     },
     "output_type": "display_data"
    }
   ],
   "source": [
    "plt.figure(figsize=(15,15))\n",
    "sns.heatmap(df.corr(),color = \"k\", annot=True)"
   ]
  },
  {
   "cell_type": "code",
   "execution_count": 33,
   "id": "61c06c9e",
   "metadata": {},
   "outputs": [
    {
     "data": {
      "text/html": [
       "<div>\n",
       "<style scoped>\n",
       "    .dataframe tbody tr th:only-of-type {\n",
       "        vertical-align: middle;\n",
       "    }\n",
       "\n",
       "    .dataframe tbody tr th {\n",
       "        vertical-align: top;\n",
       "    }\n",
       "\n",
       "    .dataframe thead th {\n",
       "        text-align: right;\n",
       "    }\n",
       "</style>\n",
       "<table border=\"1\" class=\"dataframe\">\n",
       "  <thead>\n",
       "    <tr style=\"text-align: right;\">\n",
       "      <th></th>\n",
       "      <th>battery_power</th>\n",
       "      <th>blue</th>\n",
       "      <th>clock_speed</th>\n",
       "      <th>dual_sim</th>\n",
       "      <th>fc</th>\n",
       "      <th>four_g</th>\n",
       "      <th>int_memory</th>\n",
       "      <th>m_dep</th>\n",
       "      <th>mobile_wt</th>\n",
       "      <th>n_cores</th>\n",
       "      <th>pc</th>\n",
       "      <th>px_height</th>\n",
       "      <th>px_width</th>\n",
       "      <th>ram</th>\n",
       "      <th>sc_h</th>\n",
       "      <th>sc_w</th>\n",
       "      <th>talk_time</th>\n",
       "      <th>three_g</th>\n",
       "      <th>touch_screen</th>\n",
       "      <th>wifi</th>\n",
       "    </tr>\n",
       "  </thead>\n",
       "  <tbody>\n",
       "    <tr>\n",
       "      <th>battery_power</th>\n",
       "      <td>1.000000</td>\n",
       "      <td>-0.072407</td>\n",
       "      <td>-0.028869</td>\n",
       "      <td>-0.036422</td>\n",
       "      <td>-0.007517</td>\n",
       "      <td>-0.089967</td>\n",
       "      <td>0.009689</td>\n",
       "      <td>0.009748</td>\n",
       "      <td>-0.062035</td>\n",
       "      <td>0.042105</td>\n",
       "      <td>0.019745</td>\n",
       "      <td>0.040299</td>\n",
       "      <td>0.031010</td>\n",
       "      <td>-0.002008</td>\n",
       "      <td>-0.054015</td>\n",
       "      <td>-0.004324</td>\n",
       "      <td>0.035502</td>\n",
       "      <td>NaN</td>\n",
       "      <td>-0.016784</td>\n",
       "      <td>-0.000225</td>\n",
       "    </tr>\n",
       "    <tr>\n",
       "      <th>blue</th>\n",
       "      <td>-0.072407</td>\n",
       "      <td>1.000000</td>\n",
       "      <td>0.073252</td>\n",
       "      <td>-0.044711</td>\n",
       "      <td>-0.094946</td>\n",
       "      <td>-0.018590</td>\n",
       "      <td>-0.007614</td>\n",
       "      <td>0.015249</td>\n",
       "      <td>0.017279</td>\n",
       "      <td>0.002413</td>\n",
       "      <td>-0.073217</td>\n",
       "      <td>-0.022326</td>\n",
       "      <td>-0.030720</td>\n",
       "      <td>0.021968</td>\n",
       "      <td>0.023933</td>\n",
       "      <td>0.004606</td>\n",
       "      <td>-0.015751</td>\n",
       "      <td>NaN</td>\n",
       "      <td>-0.048929</td>\n",
       "      <td>0.035051</td>\n",
       "    </tr>\n",
       "    <tr>\n",
       "      <th>clock_speed</th>\n",
       "      <td>-0.028869</td>\n",
       "      <td>0.073252</td>\n",
       "      <td>1.000000</td>\n",
       "      <td>-0.012413</td>\n",
       "      <td>0.011743</td>\n",
       "      <td>-0.012170</td>\n",
       "      <td>-0.027760</td>\n",
       "      <td>-0.018718</td>\n",
       "      <td>0.004247</td>\n",
       "      <td>-0.001532</td>\n",
       "      <td>0.095699</td>\n",
       "      <td>0.025060</td>\n",
       "      <td>0.068382</td>\n",
       "      <td>0.016144</td>\n",
       "      <td>-0.047946</td>\n",
       "      <td>-0.021024</td>\n",
       "      <td>-0.069371</td>\n",
       "      <td>NaN</td>\n",
       "      <td>0.072340</td>\n",
       "      <td>-0.021441</td>\n",
       "    </tr>\n",
       "    <tr>\n",
       "      <th>dual_sim</th>\n",
       "      <td>-0.036422</td>\n",
       "      <td>-0.044711</td>\n",
       "      <td>-0.012413</td>\n",
       "      <td>1.000000</td>\n",
       "      <td>0.069786</td>\n",
       "      <td>0.029811</td>\n",
       "      <td>-0.011815</td>\n",
       "      <td>0.039864</td>\n",
       "      <td>-0.011113</td>\n",
       "      <td>0.006555</td>\n",
       "      <td>0.074544</td>\n",
       "      <td>-0.000069</td>\n",
       "      <td>-0.001752</td>\n",
       "      <td>0.046118</td>\n",
       "      <td>0.002822</td>\n",
       "      <td>-0.006485</td>\n",
       "      <td>0.018742</td>\n",
       "      <td>NaN</td>\n",
       "      <td>0.064725</td>\n",
       "      <td>0.013433</td>\n",
       "    </tr>\n",
       "    <tr>\n",
       "      <th>fc</th>\n",
       "      <td>-0.007517</td>\n",
       "      <td>-0.094946</td>\n",
       "      <td>0.011743</td>\n",
       "      <td>0.069786</td>\n",
       "      <td>1.000000</td>\n",
       "      <td>0.037683</td>\n",
       "      <td>-0.005653</td>\n",
       "      <td>0.013029</td>\n",
       "      <td>-0.000893</td>\n",
       "      <td>0.031172</td>\n",
       "      <td>0.643003</td>\n",
       "      <td>-0.007576</td>\n",
       "      <td>0.015855</td>\n",
       "      <td>-0.077839</td>\n",
       "      <td>0.050671</td>\n",
       "      <td>0.027118</td>\n",
       "      <td>-0.050613</td>\n",
       "      <td>NaN</td>\n",
       "      <td>0.044955</td>\n",
       "      <td>-0.065824</td>\n",
       "    </tr>\n",
       "    <tr>\n",
       "      <th>four_g</th>\n",
       "      <td>-0.089967</td>\n",
       "      <td>-0.018590</td>\n",
       "      <td>-0.012170</td>\n",
       "      <td>0.029811</td>\n",
       "      <td>0.037683</td>\n",
       "      <td>1.000000</td>\n",
       "      <td>-0.031981</td>\n",
       "      <td>0.036245</td>\n",
       "      <td>-0.002473</td>\n",
       "      <td>0.051328</td>\n",
       "      <td>0.054459</td>\n",
       "      <td>0.056267</td>\n",
       "      <td>0.034006</td>\n",
       "      <td>0.016030</td>\n",
       "      <td>0.003271</td>\n",
       "      <td>0.010149</td>\n",
       "      <td>0.025515</td>\n",
       "      <td>NaN</td>\n",
       "      <td>-0.012900</td>\n",
       "      <td>-0.026197</td>\n",
       "    </tr>\n",
       "    <tr>\n",
       "      <th>int_memory</th>\n",
       "      <td>0.009689</td>\n",
       "      <td>-0.007614</td>\n",
       "      <td>-0.027760</td>\n",
       "      <td>-0.011815</td>\n",
       "      <td>-0.005653</td>\n",
       "      <td>-0.031981</td>\n",
       "      <td>1.000000</td>\n",
       "      <td>0.007012</td>\n",
       "      <td>-0.014956</td>\n",
       "      <td>0.027991</td>\n",
       "      <td>0.012389</td>\n",
       "      <td>-0.038778</td>\n",
       "      <td>-0.034110</td>\n",
       "      <td>-0.016984</td>\n",
       "      <td>-0.046466</td>\n",
       "      <td>-0.002627</td>\n",
       "      <td>0.030156</td>\n",
       "      <td>NaN</td>\n",
       "      <td>0.028463</td>\n",
       "      <td>0.006518</td>\n",
       "    </tr>\n",
       "    <tr>\n",
       "      <th>m_dep</th>\n",
       "      <td>0.009748</td>\n",
       "      <td>0.015249</td>\n",
       "      <td>-0.018718</td>\n",
       "      <td>0.039864</td>\n",
       "      <td>0.013029</td>\n",
       "      <td>0.036245</td>\n",
       "      <td>0.007012</td>\n",
       "      <td>1.000000</td>\n",
       "      <td>-0.036320</td>\n",
       "      <td>0.007384</td>\n",
       "      <td>0.001023</td>\n",
       "      <td>0.057598</td>\n",
       "      <td>0.052106</td>\n",
       "      <td>0.014827</td>\n",
       "      <td>-0.021810</td>\n",
       "      <td>-0.035891</td>\n",
       "      <td>0.026732</td>\n",
       "      <td>NaN</td>\n",
       "      <td>0.087337</td>\n",
       "      <td>-0.064437</td>\n",
       "    </tr>\n",
       "    <tr>\n",
       "      <th>mobile_wt</th>\n",
       "      <td>-0.062035</td>\n",
       "      <td>0.017279</td>\n",
       "      <td>0.004247</td>\n",
       "      <td>-0.011113</td>\n",
       "      <td>-0.000893</td>\n",
       "      <td>-0.002473</td>\n",
       "      <td>-0.014956</td>\n",
       "      <td>-0.036320</td>\n",
       "      <td>1.000000</td>\n",
       "      <td>-0.008193</td>\n",
       "      <td>0.021414</td>\n",
       "      <td>0.015434</td>\n",
       "      <td>-0.011385</td>\n",
       "      <td>-0.002357</td>\n",
       "      <td>-0.036374</td>\n",
       "      <td>0.024850</td>\n",
       "      <td>-0.038230</td>\n",
       "      <td>NaN</td>\n",
       "      <td>0.070174</td>\n",
       "      <td>0.070232</td>\n",
       "    </tr>\n",
       "    <tr>\n",
       "      <th>n_cores</th>\n",
       "      <td>0.042105</td>\n",
       "      <td>0.002413</td>\n",
       "      <td>-0.001532</td>\n",
       "      <td>0.006555</td>\n",
       "      <td>0.031172</td>\n",
       "      <td>0.051328</td>\n",
       "      <td>0.027991</td>\n",
       "      <td>0.007384</td>\n",
       "      <td>-0.008193</td>\n",
       "      <td>1.000000</td>\n",
       "      <td>0.024657</td>\n",
       "      <td>-0.068057</td>\n",
       "      <td>-0.030665</td>\n",
       "      <td>-0.054872</td>\n",
       "      <td>0.001667</td>\n",
       "      <td>0.015164</td>\n",
       "      <td>-0.037522</td>\n",
       "      <td>NaN</td>\n",
       "      <td>-0.035278</td>\n",
       "      <td>-0.000442</td>\n",
       "    </tr>\n",
       "    <tr>\n",
       "      <th>pc</th>\n",
       "      <td>0.019745</td>\n",
       "      <td>-0.073217</td>\n",
       "      <td>0.095699</td>\n",
       "      <td>0.074544</td>\n",
       "      <td>0.643003</td>\n",
       "      <td>0.054459</td>\n",
       "      <td>0.012389</td>\n",
       "      <td>0.001023</td>\n",
       "      <td>0.021414</td>\n",
       "      <td>0.024657</td>\n",
       "      <td>1.000000</td>\n",
       "      <td>0.035986</td>\n",
       "      <td>0.049054</td>\n",
       "      <td>-0.059601</td>\n",
       "      <td>0.036861</td>\n",
       "      <td>0.008350</td>\n",
       "      <td>-0.042387</td>\n",
       "      <td>NaN</td>\n",
       "      <td>0.074470</td>\n",
       "      <td>-0.073876</td>\n",
       "    </tr>\n",
       "    <tr>\n",
       "      <th>px_height</th>\n",
       "      <td>0.040299</td>\n",
       "      <td>-0.022326</td>\n",
       "      <td>0.025060</td>\n",
       "      <td>-0.000069</td>\n",
       "      <td>-0.007576</td>\n",
       "      <td>0.056267</td>\n",
       "      <td>-0.038778</td>\n",
       "      <td>0.057598</td>\n",
       "      <td>0.015434</td>\n",
       "      <td>-0.068057</td>\n",
       "      <td>0.035986</td>\n",
       "      <td>1.000000</td>\n",
       "      <td>0.519884</td>\n",
       "      <td>0.044505</td>\n",
       "      <td>0.043590</td>\n",
       "      <td>0.061413</td>\n",
       "      <td>0.027856</td>\n",
       "      <td>NaN</td>\n",
       "      <td>-0.035840</td>\n",
       "      <td>0.010814</td>\n",
       "    </tr>\n",
       "    <tr>\n",
       "      <th>px_width</th>\n",
       "      <td>0.031010</td>\n",
       "      <td>-0.030720</td>\n",
       "      <td>0.068382</td>\n",
       "      <td>-0.001752</td>\n",
       "      <td>0.015855</td>\n",
       "      <td>0.034006</td>\n",
       "      <td>-0.034110</td>\n",
       "      <td>0.052106</td>\n",
       "      <td>-0.011385</td>\n",
       "      <td>-0.030665</td>\n",
       "      <td>0.049054</td>\n",
       "      <td>0.519884</td>\n",
       "      <td>1.000000</td>\n",
       "      <td>0.010062</td>\n",
       "      <td>0.007316</td>\n",
       "      <td>0.025827</td>\n",
       "      <td>0.063824</td>\n",
       "      <td>NaN</td>\n",
       "      <td>-0.029377</td>\n",
       "      <td>-0.063841</td>\n",
       "    </tr>\n",
       "    <tr>\n",
       "      <th>ram</th>\n",
       "      <td>-0.002008</td>\n",
       "      <td>0.021968</td>\n",
       "      <td>0.016144</td>\n",
       "      <td>0.046118</td>\n",
       "      <td>-0.077839</td>\n",
       "      <td>0.016030</td>\n",
       "      <td>-0.016984</td>\n",
       "      <td>0.014827</td>\n",
       "      <td>-0.002357</td>\n",
       "      <td>-0.054872</td>\n",
       "      <td>-0.059601</td>\n",
       "      <td>0.044505</td>\n",
       "      <td>0.010062</td>\n",
       "      <td>1.000000</td>\n",
       "      <td>-0.012873</td>\n",
       "      <td>-0.000738</td>\n",
       "      <td>0.002030</td>\n",
       "      <td>NaN</td>\n",
       "      <td>-0.011636</td>\n",
       "      <td>-0.031145</td>\n",
       "    </tr>\n",
       "    <tr>\n",
       "      <th>sc_h</th>\n",
       "      <td>-0.054015</td>\n",
       "      <td>0.023933</td>\n",
       "      <td>-0.047946</td>\n",
       "      <td>0.002822</td>\n",
       "      <td>0.050671</td>\n",
       "      <td>0.003271</td>\n",
       "      <td>-0.046466</td>\n",
       "      <td>-0.021810</td>\n",
       "      <td>-0.036374</td>\n",
       "      <td>0.001667</td>\n",
       "      <td>0.036861</td>\n",
       "      <td>0.043590</td>\n",
       "      <td>0.007316</td>\n",
       "      <td>-0.012873</td>\n",
       "      <td>1.000000</td>\n",
       "      <td>0.474856</td>\n",
       "      <td>0.025214</td>\n",
       "      <td>NaN</td>\n",
       "      <td>-0.022369</td>\n",
       "      <td>-0.002165</td>\n",
       "    </tr>\n",
       "    <tr>\n",
       "      <th>sc_w</th>\n",
       "      <td>-0.004324</td>\n",
       "      <td>0.004606</td>\n",
       "      <td>-0.021024</td>\n",
       "      <td>-0.006485</td>\n",
       "      <td>0.027118</td>\n",
       "      <td>0.010149</td>\n",
       "      <td>-0.002627</td>\n",
       "      <td>-0.035891</td>\n",
       "      <td>0.024850</td>\n",
       "      <td>0.015164</td>\n",
       "      <td>0.008350</td>\n",
       "      <td>0.061413</td>\n",
       "      <td>0.025827</td>\n",
       "      <td>-0.000738</td>\n",
       "      <td>0.474856</td>\n",
       "      <td>1.000000</td>\n",
       "      <td>0.066943</td>\n",
       "      <td>NaN</td>\n",
       "      <td>-0.036142</td>\n",
       "      <td>0.018076</td>\n",
       "    </tr>\n",
       "    <tr>\n",
       "      <th>talk_time</th>\n",
       "      <td>0.035502</td>\n",
       "      <td>-0.015751</td>\n",
       "      <td>-0.069371</td>\n",
       "      <td>0.018742</td>\n",
       "      <td>-0.050613</td>\n",
       "      <td>0.025515</td>\n",
       "      <td>0.030156</td>\n",
       "      <td>0.026732</td>\n",
       "      <td>-0.038230</td>\n",
       "      <td>-0.037522</td>\n",
       "      <td>-0.042387</td>\n",
       "      <td>0.027856</td>\n",
       "      <td>0.063824</td>\n",
       "      <td>0.002030</td>\n",
       "      <td>0.025214</td>\n",
       "      <td>0.066943</td>\n",
       "      <td>1.000000</td>\n",
       "      <td>NaN</td>\n",
       "      <td>0.032798</td>\n",
       "      <td>0.001929</td>\n",
       "    </tr>\n",
       "    <tr>\n",
       "      <th>three_g</th>\n",
       "      <td>NaN</td>\n",
       "      <td>NaN</td>\n",
       "      <td>NaN</td>\n",
       "      <td>NaN</td>\n",
       "      <td>NaN</td>\n",
       "      <td>NaN</td>\n",
       "      <td>NaN</td>\n",
       "      <td>NaN</td>\n",
       "      <td>NaN</td>\n",
       "      <td>NaN</td>\n",
       "      <td>NaN</td>\n",
       "      <td>NaN</td>\n",
       "      <td>NaN</td>\n",
       "      <td>NaN</td>\n",
       "      <td>NaN</td>\n",
       "      <td>NaN</td>\n",
       "      <td>NaN</td>\n",
       "      <td>NaN</td>\n",
       "      <td>NaN</td>\n",
       "      <td>NaN</td>\n",
       "    </tr>\n",
       "    <tr>\n",
       "      <th>touch_screen</th>\n",
       "      <td>-0.016784</td>\n",
       "      <td>-0.048929</td>\n",
       "      <td>0.072340</td>\n",
       "      <td>0.064725</td>\n",
       "      <td>0.044955</td>\n",
       "      <td>-0.012900</td>\n",
       "      <td>0.028463</td>\n",
       "      <td>0.087337</td>\n",
       "      <td>0.070174</td>\n",
       "      <td>-0.035278</td>\n",
       "      <td>0.074470</td>\n",
       "      <td>-0.035840</td>\n",
       "      <td>-0.029377</td>\n",
       "      <td>-0.011636</td>\n",
       "      <td>-0.022369</td>\n",
       "      <td>-0.036142</td>\n",
       "      <td>0.032798</td>\n",
       "      <td>NaN</td>\n",
       "      <td>1.000000</td>\n",
       "      <td>-0.008123</td>\n",
       "    </tr>\n",
       "    <tr>\n",
       "      <th>wifi</th>\n",
       "      <td>-0.000225</td>\n",
       "      <td>0.035051</td>\n",
       "      <td>-0.021441</td>\n",
       "      <td>0.013433</td>\n",
       "      <td>-0.065824</td>\n",
       "      <td>-0.026197</td>\n",
       "      <td>0.006518</td>\n",
       "      <td>-0.064437</td>\n",
       "      <td>0.070232</td>\n",
       "      <td>-0.000442</td>\n",
       "      <td>-0.073876</td>\n",
       "      <td>0.010814</td>\n",
       "      <td>-0.063841</td>\n",
       "      <td>-0.031145</td>\n",
       "      <td>-0.002165</td>\n",
       "      <td>0.018076</td>\n",
       "      <td>0.001929</td>\n",
       "      <td>NaN</td>\n",
       "      <td>-0.008123</td>\n",
       "      <td>1.000000</td>\n",
       "    </tr>\n",
       "  </tbody>\n",
       "</table>\n",
       "</div>"
      ],
      "text/plain": [
       "               battery_power      blue  clock_speed  dual_sim        fc  \\\n",
       "battery_power       1.000000 -0.072407    -0.028869 -0.036422 -0.007517   \n",
       "blue               -0.072407  1.000000     0.073252 -0.044711 -0.094946   \n",
       "clock_speed        -0.028869  0.073252     1.000000 -0.012413  0.011743   \n",
       "dual_sim           -0.036422 -0.044711    -0.012413  1.000000  0.069786   \n",
       "fc                 -0.007517 -0.094946     0.011743  0.069786  1.000000   \n",
       "four_g             -0.089967 -0.018590    -0.012170  0.029811  0.037683   \n",
       "int_memory          0.009689 -0.007614    -0.027760 -0.011815 -0.005653   \n",
       "m_dep               0.009748  0.015249    -0.018718  0.039864  0.013029   \n",
       "mobile_wt          -0.062035  0.017279     0.004247 -0.011113 -0.000893   \n",
       "n_cores             0.042105  0.002413    -0.001532  0.006555  0.031172   \n",
       "pc                  0.019745 -0.073217     0.095699  0.074544  0.643003   \n",
       "px_height           0.040299 -0.022326     0.025060 -0.000069 -0.007576   \n",
       "px_width            0.031010 -0.030720     0.068382 -0.001752  0.015855   \n",
       "ram                -0.002008  0.021968     0.016144  0.046118 -0.077839   \n",
       "sc_h               -0.054015  0.023933    -0.047946  0.002822  0.050671   \n",
       "sc_w               -0.004324  0.004606    -0.021024 -0.006485  0.027118   \n",
       "talk_time           0.035502 -0.015751    -0.069371  0.018742 -0.050613   \n",
       "three_g                  NaN       NaN          NaN       NaN       NaN   \n",
       "touch_screen       -0.016784 -0.048929     0.072340  0.064725  0.044955   \n",
       "wifi               -0.000225  0.035051    -0.021441  0.013433 -0.065824   \n",
       "\n",
       "                 four_g  int_memory     m_dep  mobile_wt   n_cores        pc  \\\n",
       "battery_power -0.089967    0.009689  0.009748  -0.062035  0.042105  0.019745   \n",
       "blue          -0.018590   -0.007614  0.015249   0.017279  0.002413 -0.073217   \n",
       "clock_speed   -0.012170   -0.027760 -0.018718   0.004247 -0.001532  0.095699   \n",
       "dual_sim       0.029811   -0.011815  0.039864  -0.011113  0.006555  0.074544   \n",
       "fc             0.037683   -0.005653  0.013029  -0.000893  0.031172  0.643003   \n",
       "four_g         1.000000   -0.031981  0.036245  -0.002473  0.051328  0.054459   \n",
       "int_memory    -0.031981    1.000000  0.007012  -0.014956  0.027991  0.012389   \n",
       "m_dep          0.036245    0.007012  1.000000  -0.036320  0.007384  0.001023   \n",
       "mobile_wt     -0.002473   -0.014956 -0.036320   1.000000 -0.008193  0.021414   \n",
       "n_cores        0.051328    0.027991  0.007384  -0.008193  1.000000  0.024657   \n",
       "pc             0.054459    0.012389  0.001023   0.021414  0.024657  1.000000   \n",
       "px_height      0.056267   -0.038778  0.057598   0.015434 -0.068057  0.035986   \n",
       "px_width       0.034006   -0.034110  0.052106  -0.011385 -0.030665  0.049054   \n",
       "ram            0.016030   -0.016984  0.014827  -0.002357 -0.054872 -0.059601   \n",
       "sc_h           0.003271   -0.046466 -0.021810  -0.036374  0.001667  0.036861   \n",
       "sc_w           0.010149   -0.002627 -0.035891   0.024850  0.015164  0.008350   \n",
       "talk_time      0.025515    0.030156  0.026732  -0.038230 -0.037522 -0.042387   \n",
       "three_g             NaN         NaN       NaN        NaN       NaN       NaN   \n",
       "touch_screen  -0.012900    0.028463  0.087337   0.070174 -0.035278  0.074470   \n",
       "wifi          -0.026197    0.006518 -0.064437   0.070232 -0.000442 -0.073876   \n",
       "\n",
       "               px_height  px_width       ram      sc_h      sc_w  talk_time  \\\n",
       "battery_power   0.040299  0.031010 -0.002008 -0.054015 -0.004324   0.035502   \n",
       "blue           -0.022326 -0.030720  0.021968  0.023933  0.004606  -0.015751   \n",
       "clock_speed     0.025060  0.068382  0.016144 -0.047946 -0.021024  -0.069371   \n",
       "dual_sim       -0.000069 -0.001752  0.046118  0.002822 -0.006485   0.018742   \n",
       "fc             -0.007576  0.015855 -0.077839  0.050671  0.027118  -0.050613   \n",
       "four_g          0.056267  0.034006  0.016030  0.003271  0.010149   0.025515   \n",
       "int_memory     -0.038778 -0.034110 -0.016984 -0.046466 -0.002627   0.030156   \n",
       "m_dep           0.057598  0.052106  0.014827 -0.021810 -0.035891   0.026732   \n",
       "mobile_wt       0.015434 -0.011385 -0.002357 -0.036374  0.024850  -0.038230   \n",
       "n_cores        -0.068057 -0.030665 -0.054872  0.001667  0.015164  -0.037522   \n",
       "pc              0.035986  0.049054 -0.059601  0.036861  0.008350  -0.042387   \n",
       "px_height       1.000000  0.519884  0.044505  0.043590  0.061413   0.027856   \n",
       "px_width        0.519884  1.000000  0.010062  0.007316  0.025827   0.063824   \n",
       "ram             0.044505  0.010062  1.000000 -0.012873 -0.000738   0.002030   \n",
       "sc_h            0.043590  0.007316 -0.012873  1.000000  0.474856   0.025214   \n",
       "sc_w            0.061413  0.025827 -0.000738  0.474856  1.000000   0.066943   \n",
       "talk_time       0.027856  0.063824  0.002030  0.025214  0.066943   1.000000   \n",
       "three_g              NaN       NaN       NaN       NaN       NaN        NaN   \n",
       "touch_screen   -0.035840 -0.029377 -0.011636 -0.022369 -0.036142   0.032798   \n",
       "wifi            0.010814 -0.063841 -0.031145 -0.002165  0.018076   0.001929   \n",
       "\n",
       "               three_g  touch_screen      wifi  \n",
       "battery_power      NaN     -0.016784 -0.000225  \n",
       "blue               NaN     -0.048929  0.035051  \n",
       "clock_speed        NaN      0.072340 -0.021441  \n",
       "dual_sim           NaN      0.064725  0.013433  \n",
       "fc                 NaN      0.044955 -0.065824  \n",
       "four_g             NaN     -0.012900 -0.026197  \n",
       "int_memory         NaN      0.028463  0.006518  \n",
       "m_dep              NaN      0.087337 -0.064437  \n",
       "mobile_wt          NaN      0.070174  0.070232  \n",
       "n_cores            NaN     -0.035278 -0.000442  \n",
       "pc                 NaN      0.074470 -0.073876  \n",
       "px_height          NaN     -0.035840  0.010814  \n",
       "px_width           NaN     -0.029377 -0.063841  \n",
       "ram                NaN     -0.011636 -0.031145  \n",
       "sc_h               NaN     -0.022369 -0.002165  \n",
       "sc_w               NaN     -0.036142  0.018076  \n",
       "talk_time          NaN      0.032798  0.001929  \n",
       "three_g            NaN           NaN       NaN  \n",
       "touch_screen       NaN      1.000000 -0.008123  \n",
       "wifi               NaN     -0.008123  1.000000  "
      ]
     },
     "execution_count": 33,
     "metadata": {},
     "output_type": "execute_result"
    }
   ],
   "source": [
    "df.corr()"
   ]
  },
  {
   "cell_type": "code",
   "execution_count": 34,
   "id": "23fa76b9",
   "metadata": {},
   "outputs": [
    {
     "data": {
      "image/png": "[encoded data removed]",
      "text/plain": [
       "<Figure size 792x792 with 20 Axes>"
      ]
     },
     "metadata": {
      "needs_background": "light"
     },
     "output_type": "display_data"
    }
   ],
   "source": [
    "df.hist(bins=20,figsize=(11,11))\n",
    "plt.show()"
   ]
  },
  {
   "cell_type": "code",
   "execution_count": 35,
   "id": "4acceae3",
   "metadata": {},
   "outputs": [],
   "source": [
    "from sklearn.preprocessing import MinMaxScaler\n",
    "scaler = MinMaxScaler()"
   ]
  },
  {
   "cell_type": "code",
   "execution_count": 36,
   "id": "21e3b2f2",
   "metadata": {},
   "outputs": [],
   "source": [
    "Norm_scale = ['battery_power','blue','dual_sim','fc','four_g','int_memory','n_cores','pc','ram','talk_time','touch_screen','wifi','mobile_wt','m_dep','px_width','px_height','clock_speed','sc_h','sc_w','three_g']"
   ]
  },
  {
   "cell_type": "code",
   "execution_count": 37,
   "id": "90ac9820",
   "metadata": {},
   "outputs": [],
   "source": [
    "df[Norm_scale] = scaler.fit_transform(df[Norm_scale])"
   ]
  },
  {
   "cell_type": "code",
   "execution_count": 38,
   "id": "f2b299e8",
   "metadata": {},
   "outputs": [
    {
     "data": {
      "text/html": [
       "<div>\n",
       "<style scoped>\n",
       "    .dataframe tbody tr th:only-of-type {\n",
       "        vertical-align: middle;\n",
       "    }\n",
       "\n",
       "    .dataframe tbody tr th {\n",
       "        vertical-align: top;\n",
       "    }\n",
       "\n",
       "    .dataframe thead th {\n",
       "        text-align: right;\n",
       "    }\n",
       "</style>\n",
       "<table border=\"1\" class=\"dataframe\">\n",
       "  <thead>\n",
       "    <tr style=\"text-align: right;\">\n",
       "      <th></th>\n",
       "      <th>battery_power</th>\n",
       "      <th>blue</th>\n",
       "      <th>clock_speed</th>\n",
       "      <th>dual_sim</th>\n",
       "      <th>fc</th>\n",
       "      <th>four_g</th>\n",
       "      <th>int_memory</th>\n",
       "      <th>m_dep</th>\n",
       "      <th>mobile_wt</th>\n",
       "      <th>n_cores</th>\n",
       "      <th>pc</th>\n",
       "      <th>px_height</th>\n",
       "      <th>px_width</th>\n",
       "      <th>ram</th>\n",
       "      <th>sc_h</th>\n",
       "      <th>sc_w</th>\n",
       "      <th>talk_time</th>\n",
       "      <th>three_g</th>\n",
       "      <th>touch_screen</th>\n",
       "      <th>wifi</th>\n",
       "    </tr>\n",
       "  </thead>\n",
       "  <tbody>\n",
       "    <tr>\n",
       "      <th>1</th>\n",
       "      <td>0.227485</td>\n",
       "      <td>1.0</td>\n",
       "      <td>0.00</td>\n",
       "      <td>1.0</td>\n",
       "      <td>0.2500</td>\n",
       "      <td>1.0</td>\n",
       "      <td>0.951613</td>\n",
       "      <td>0.777778</td>\n",
       "      <td>0.925000</td>\n",
       "      <td>0.571429</td>\n",
       "      <td>0.60</td>\n",
       "      <td>0.402590</td>\n",
       "      <td>0.237809</td>\n",
       "      <td>0.976082</td>\n",
       "      <td>0.071429</td>\n",
       "      <td>0.000000</td>\n",
       "      <td>0.277778</td>\n",
       "      <td>0.0</td>\n",
       "      <td>0.0</td>\n",
       "      <td>0.0</td>\n",
       "    </tr>\n",
       "    <tr>\n",
       "      <th>4</th>\n",
       "      <td>0.623082</td>\n",
       "      <td>0.0</td>\n",
       "      <td>0.36</td>\n",
       "      <td>0.0</td>\n",
       "      <td>0.6875</td>\n",
       "      <td>1.0</td>\n",
       "      <td>0.758065</td>\n",
       "      <td>0.444444</td>\n",
       "      <td>0.233333</td>\n",
       "      <td>0.714286</td>\n",
       "      <td>0.90</td>\n",
       "      <td>0.404209</td>\n",
       "      <td>0.206413</td>\n",
       "      <td>0.405805</td>\n",
       "      <td>0.714286</td>\n",
       "      <td>0.470588</td>\n",
       "      <td>0.277778</td>\n",
       "      <td>0.0</td>\n",
       "      <td>0.0</td>\n",
       "      <td>1.0</td>\n",
       "    </tr>\n",
       "    <tr>\n",
       "      <th>5</th>\n",
       "      <td>0.643095</td>\n",
       "      <td>1.0</td>\n",
       "      <td>0.96</td>\n",
       "      <td>1.0</td>\n",
       "      <td>0.3125</td>\n",
       "      <td>1.0</td>\n",
       "      <td>0.774194</td>\n",
       "      <td>0.777778</td>\n",
       "      <td>0.983333</td>\n",
       "      <td>1.000000</td>\n",
       "      <td>0.45</td>\n",
       "      <td>0.307070</td>\n",
       "      <td>0.292585</td>\n",
       "      <td>0.871540</td>\n",
       "      <td>0.357143</td>\n",
       "      <td>0.411765</td>\n",
       "      <td>0.055556</td>\n",
       "      <td>0.0</td>\n",
       "      <td>1.0</td>\n",
       "      <td>1.0</td>\n",
       "    </tr>\n",
       "    <tr>\n",
       "      <th>8</th>\n",
       "      <td>0.407605</td>\n",
       "      <td>1.0</td>\n",
       "      <td>0.96</td>\n",
       "      <td>1.0</td>\n",
       "      <td>0.5625</td>\n",
       "      <td>1.0</td>\n",
       "      <td>0.370968</td>\n",
       "      <td>0.555556</td>\n",
       "      <td>0.175000</td>\n",
       "      <td>0.571429</td>\n",
       "      <td>0.95</td>\n",
       "      <td>0.300054</td>\n",
       "      <td>0.250501</td>\n",
       "      <td>0.865896</td>\n",
       "      <td>0.428571</td>\n",
       "      <td>0.529412</td>\n",
       "      <td>0.444444</td>\n",
       "      <td>0.0</td>\n",
       "      <td>1.0</td>\n",
       "      <td>0.0</td>\n",
       "    </tr>\n",
       "    <tr>\n",
       "      <th>9</th>\n",
       "      <td>0.680454</td>\n",
       "      <td>0.0</td>\n",
       "      <td>0.00</td>\n",
       "      <td>0.0</td>\n",
       "      <td>0.0625</td>\n",
       "      <td>0.0</td>\n",
       "      <td>0.370968</td>\n",
       "      <td>0.444444</td>\n",
       "      <td>0.758333</td>\n",
       "      <td>0.285714</td>\n",
       "      <td>1.00</td>\n",
       "      <td>0.028063</td>\n",
       "      <td>0.339345</td>\n",
       "      <td>0.104273</td>\n",
       "      <td>0.071429</td>\n",
       "      <td>0.000000</td>\n",
       "      <td>0.166667</td>\n",
       "      <td>0.0</td>\n",
       "      <td>0.0</td>\n",
       "      <td>1.0</td>\n",
       "    </tr>\n",
       "    <tr>\n",
       "      <th>...</th>\n",
       "      <td>...</td>\n",
       "      <td>...</td>\n",
       "      <td>...</td>\n",
       "      <td>...</td>\n",
       "      <td>...</td>\n",
       "      <td>...</td>\n",
       "      <td>...</td>\n",
       "      <td>...</td>\n",
       "      <td>...</td>\n",
       "      <td>...</td>\n",
       "      <td>...</td>\n",
       "      <td>...</td>\n",
       "      <td>...</td>\n",
       "      <td>...</td>\n",
       "      <td>...</td>\n",
       "      <td>...</td>\n",
       "      <td>...</td>\n",
       "      <td>...</td>\n",
       "      <td>...</td>\n",
       "      <td>...</td>\n",
       "    </tr>\n",
       "    <tr>\n",
       "      <th>993</th>\n",
       "      <td>0.044696</td>\n",
       "      <td>1.0</td>\n",
       "      <td>0.88</td>\n",
       "      <td>1.0</td>\n",
       "      <td>0.8750</td>\n",
       "      <td>1.0</td>\n",
       "      <td>0.870968</td>\n",
       "      <td>0.333333</td>\n",
       "      <td>0.708333</td>\n",
       "      <td>1.000000</td>\n",
       "      <td>0.85</td>\n",
       "      <td>0.299514</td>\n",
       "      <td>0.527054</td>\n",
       "      <td>0.019618</td>\n",
       "      <td>0.142857</td>\n",
       "      <td>0.352941</td>\n",
       "      <td>0.277778</td>\n",
       "      <td>0.0</td>\n",
       "      <td>1.0</td>\n",
       "      <td>1.0</td>\n",
       "    </tr>\n",
       "    <tr>\n",
       "      <th>994</th>\n",
       "      <td>0.290861</td>\n",
       "      <td>1.0</td>\n",
       "      <td>0.36</td>\n",
       "      <td>1.0</td>\n",
       "      <td>0.0000</td>\n",
       "      <td>0.0</td>\n",
       "      <td>0.709677</td>\n",
       "      <td>0.777778</td>\n",
       "      <td>0.491667</td>\n",
       "      <td>0.142857</td>\n",
       "      <td>0.00</td>\n",
       "      <td>0.143011</td>\n",
       "      <td>0.257181</td>\n",
       "      <td>0.113142</td>\n",
       "      <td>0.214286</td>\n",
       "      <td>0.294118</td>\n",
       "      <td>0.555556</td>\n",
       "      <td>0.0</td>\n",
       "      <td>1.0</td>\n",
       "      <td>1.0</td>\n",
       "    </tr>\n",
       "    <tr>\n",
       "      <th>995</th>\n",
       "      <td>0.800534</td>\n",
       "      <td>1.0</td>\n",
       "      <td>0.56</td>\n",
       "      <td>0.0</td>\n",
       "      <td>0.0000</td>\n",
       "      <td>1.0</td>\n",
       "      <td>0.838710</td>\n",
       "      <td>0.444444</td>\n",
       "      <td>0.750000</td>\n",
       "      <td>0.857143</td>\n",
       "      <td>0.85</td>\n",
       "      <td>0.347545</td>\n",
       "      <td>0.275217</td>\n",
       "      <td>0.499328</td>\n",
       "      <td>0.642857</td>\n",
       "      <td>0.470588</td>\n",
       "      <td>0.722222</td>\n",
       "      <td>0.0</td>\n",
       "      <td>1.0</td>\n",
       "      <td>0.0</td>\n",
       "    </tr>\n",
       "    <tr>\n",
       "      <th>997</th>\n",
       "      <td>0.456971</td>\n",
       "      <td>0.0</td>\n",
       "      <td>0.36</td>\n",
       "      <td>0.0</td>\n",
       "      <td>0.0625</td>\n",
       "      <td>1.0</td>\n",
       "      <td>0.096774</td>\n",
       "      <td>0.444444</td>\n",
       "      <td>0.000000</td>\n",
       "      <td>0.000000</td>\n",
       "      <td>0.60</td>\n",
       "      <td>0.257420</td>\n",
       "      <td>0.216433</td>\n",
       "      <td>0.257995</td>\n",
       "      <td>0.000000</td>\n",
       "      <td>0.000000</td>\n",
       "      <td>0.666667</td>\n",
       "      <td>0.0</td>\n",
       "      <td>0.0</td>\n",
       "      <td>0.0</td>\n",
       "    </tr>\n",
       "    <tr>\n",
       "      <th>999</th>\n",
       "      <td>0.513676</td>\n",
       "      <td>1.0</td>\n",
       "      <td>0.00</td>\n",
       "      <td>0.0</td>\n",
       "      <td>0.2500</td>\n",
       "      <td>1.0</td>\n",
       "      <td>0.532258</td>\n",
       "      <td>0.000000</td>\n",
       "      <td>0.500000</td>\n",
       "      <td>0.714286</td>\n",
       "      <td>0.95</td>\n",
       "      <td>0.246627</td>\n",
       "      <td>0.071476</td>\n",
       "      <td>0.689331</td>\n",
       "      <td>0.285714</td>\n",
       "      <td>0.117647</td>\n",
       "      <td>0.055556</td>\n",
       "      <td>0.0</td>\n",
       "      <td>0.0</td>\n",
       "      <td>1.0</td>\n",
       "    </tr>\n",
       "  </tbody>\n",
       "</table>\n",
       "<p>740 rows × 20 columns</p>\n",
       "</div>"
      ],
      "text/plain": [
       "     battery_power  blue  clock_speed  dual_sim      fc  four_g  int_memory  \\\n",
       "1         0.227485   1.0         0.00       1.0  0.2500     1.0    0.951613   \n",
       "4         0.623082   0.0         0.36       0.0  0.6875     1.0    0.758065   \n",
       "5         0.643095   1.0         0.96       1.0  0.3125     1.0    0.774194   \n",
       "8         0.407605   1.0         0.96       1.0  0.5625     1.0    0.370968   \n",
       "9         0.680454   0.0         0.00       0.0  0.0625     0.0    0.370968   \n",
       "..             ...   ...          ...       ...     ...     ...         ...   \n",
       "993       0.044696   1.0         0.88       1.0  0.8750     1.0    0.870968   \n",
       "994       0.290861   1.0         0.36       1.0  0.0000     0.0    0.709677   \n",
       "995       0.800534   1.0         0.56       0.0  0.0000     1.0    0.838710   \n",
       "997       0.456971   0.0         0.36       0.0  0.0625     1.0    0.096774   \n",
       "999       0.513676   1.0         0.00       0.0  0.2500     1.0    0.532258   \n",
       "\n",
       "        m_dep  mobile_wt   n_cores    pc  px_height  px_width       ram  \\\n",
       "1    0.777778   0.925000  0.571429  0.60   0.402590  0.237809  0.976082   \n",
       "4    0.444444   0.233333  0.714286  0.90   0.404209  0.206413  0.405805   \n",
       "5    0.777778   0.983333  1.000000  0.45   0.307070  0.292585  0.871540   \n",
       "8    0.555556   0.175000  0.571429  0.95   0.300054  0.250501  0.865896   \n",
       "9    0.444444   0.758333  0.285714  1.00   0.028063  0.339345  0.104273   \n",
       "..        ...        ...       ...   ...        ...       ...       ...   \n",
       "993  0.333333   0.708333  1.000000  0.85   0.299514  0.527054  0.019618   \n",
       "994  0.777778   0.491667  0.142857  0.00   0.143011  0.257181  0.113142   \n",
       "995  0.444444   0.750000  0.857143  0.85   0.347545  0.275217  0.499328   \n",
       "997  0.444444   0.000000  0.000000  0.60   0.257420  0.216433  0.257995   \n",
       "999  0.000000   0.500000  0.714286  0.95   0.246627  0.071476  0.689331   \n",
       "\n",
       "         sc_h      sc_w  talk_time  three_g  touch_screen  wifi  \n",
       "1    0.071429  0.000000   0.277778      0.0           0.0   0.0  \n",
       "4    0.714286  0.470588   0.277778      0.0           0.0   1.0  \n",
       "5    0.357143  0.411765   0.055556      0.0           1.0   1.0  \n",
       "8    0.428571  0.529412   0.444444      0.0           1.0   0.0  \n",
       "9    0.071429  0.000000   0.166667      0.0           0.0   1.0  \n",
       "..        ...       ...        ...      ...           ...   ...  \n",
       "993  0.142857  0.352941   0.277778      0.0           1.0   1.0  \n",
       "994  0.214286  0.294118   0.555556      0.0           1.0   1.0  \n",
       "995  0.642857  0.470588   0.722222      0.0           1.0   0.0  \n",
       "997  0.000000  0.000000   0.666667      0.0           0.0   0.0  \n",
       "999  0.285714  0.117647   0.055556      0.0           0.0   1.0  \n",
       "\n",
       "[740 rows x 20 columns]"
      ]
     },
     "execution_count": 38,
     "metadata": {},
     "output_type": "execute_result"
    }
   ],
   "source": [
    "df"
   ]
  },
  {
   "cell_type": "code",
   "execution_count": 39,
   "id": "2f4cba88",
   "metadata": {},
   "outputs": [],
   "source": [
    "from sklearn.ensemble import RandomForestClassifier"
   ]
  },
  {
   "cell_type": "code",
   "execution_count": 40,
   "id": "317ff4f3",
   "metadata": {},
   "outputs": [],
   "source": [
    "rfc = RandomForestClassifier()"
   ]
  },
  {
   "cell_type": "code",
   "execution_count": 41,
   "id": "3436332a",
   "metadata": {},
   "outputs": [],
   "source": [
    "Y = df['four_g']\n",
    "X = df[['battery_power','blue','fc','dual_sim','int_memory','n_cores','pc','ram','talk_time','touch_screen','wifi','mobile_wt','m_dep','px_width','px_height','clock_speed','sc_h','sc_w','three_g']]"
   ]
  },
  {
   "cell_type": "code",
   "execution_count": 42,
   "id": "137213d2",
   "metadata": {},
   "outputs": [],
   "source": [
    "from sklearn.model_selection import train_test_split"
   ]
  },
  {
   "cell_type": "code",
   "execution_count": 43,
   "id": "a1bb4f23",
   "metadata": {},
   "outputs": [],
   "source": [
    "from sklearn.metrics import accuracy_score"
   ]
  },
  {
   "cell_type": "code",
   "execution_count": 44,
   "id": "eec84a60",
   "metadata": {},
   "outputs": [],
   "source": [
    "from sklearn import metrics"
   ]
  },
  {
   "cell_type": "code",
   "execution_count": 45,
   "id": "af7da689",
   "metadata": {},
   "outputs": [],
   "source": [
    "X_train, X_test, y_train, y_test = train_test_split(X,Y,test_size=0.2, random_state=42)"
   ]
  },
  {
   "cell_type": "code",
   "execution_count": 46,
   "id": "b88d5d0e",
   "metadata": {},
   "outputs": [
    {
     "name": "stdout",
     "output_type": "stream",
     "text": [
      "Collecting imblearn\n",
      "  Downloading imblearn-0.0-py2.py3-none-any.whl (1.9 kB)\n",
      "Collecting imbalanced-learn\n",
      "  Downloading imbalanced_learn-0.9.1-py3-none-any.whl (199 kB)\n",
      "     -------------------------------------- 199.3/199.3 KB 3.0 MB/s eta 0:00:00\n",
      "Requirement already satisfied: joblib>=1.0.0 in c:\\users\\dell\\appdata\\local\\programs\\python\\python310\\lib\\site-packages (from imbalanced-learn->imblearn) (1.1.0)\n",
      "Requirement already satisfied: scikit-learn>=1.1.0 in c:\\users\\dell\\appdata\\local\\programs\\python\\python310\\lib\\site-packages (from imbalanced-learn->imblearn) (1.1.1)\n",
      "Requirement already satisfied: threadpoolctl>=2.0.0 in c:\\users\\dell\\appdata\\local\\programs\\python\\python310\\lib\\site-packages (from imbalanced-learn->imblearn) (3.1.0)\n",
      "Requirement already satisfied: scipy>=1.3.2 in c:\\users\\dell\\appdata\\local\\programs\\python\\python310\\lib\\site-packages (from imbalanced-learn->imblearn) (1.8.1)\n",
      "Requirement already satisfied: numpy>=1.17.3 in c:\\users\\dell\\appdata\\local\\programs\\python\\python310\\lib\\site-packages (from imbalanced-learn->imblearn) (1.22.3)\n",
      "Installing collected packages: imbalanced-learn, imblearn\n",
      "Successfully installed imbalanced-learn-0.9.1 imblearn-0.0\n",
      "Note: you may need to restart the kernel to use updated packages.\n"
     ]
    },
    {
     "name": "stderr",
     "output_type": "stream",
     "text": [
      "WARNING: You are using pip version 22.0.4; however, version 22.1.2 is available.\n",
      "You should consider upgrading via the 'c:\\Users\\Dell\\AppData\\Local\\Programs\\Python\\Python310\\python.exe -m pip install --upgrade pip' command.\n"
     ]
    }
   ],
   "source": [
    "pip install imblearn"
   ]
  },
  {
   "cell_type": "code",
   "execution_count": 47,
   "id": "5ff45a16",
   "metadata": {},
   "outputs": [],
   "source": [
    "from imblearn.over_sampling import SMOTE"
   ]
  },
  {
   "cell_type": "code",
   "execution_count": 48,
   "id": "052f2cdf",
   "metadata": {},
   "outputs": [],
   "source": [
    "sm = SMOTE(k_neighbors=3)\n",
    "X,Y=sm.fit_resample(X,Y)"
   ]
  },
  {
   "cell_type": "code",
   "execution_count": 49,
   "id": "fb842a0e",
   "metadata": {},
   "outputs": [
    {
     "data": {
      "text/html": [
       "<style>#sk-container-id-1 {color: black;background-color: white;}#sk-container-id-1 pre{padding: 0;}#sk-container-id-1 div.sk-toggleable {background-color: white;}#sk-container-id-1 label.sk-toggleable__label {cursor: pointer;display: block;width: 100%;margin-bottom: 0;padding: 0.3em;box-sizing: border-box;text-align: center;}#sk-container-id-1 label.sk-toggleable__label-arrow:before {content: \"▸\";float: left;margin-right: 0.25em;color: #696969;}#sk-container-id-1 label.sk-toggleable__label-arrow:hover:before {color: black;}#sk-container-id-1 div.sk-estimator:hover label.sk-toggleable__label-arrow:before {color: black;}#sk-container-id-1 div.sk-toggleable__content {max-height: 0;max-width: 0;overflow: hidden;text-align: left;background-color: #f0f8ff;}#sk-container-id-1 div.sk-toggleable__content pre {margin: 0.2em;color: black;border-radius: 0.25em;background-color: #f0f8ff;}#sk-container-id-1 input.sk-toggleable__control:checked~div.sk-toggleable__content {max-height: 200px;max-width: 100%;overflow: auto;}#sk-container-id-1 input.sk-toggleable__control:checked~label.sk-toggleable__label-arrow:before {content: \"▾\";}#sk-container-id-1 div.sk-estimator input.sk-toggleable__control:checked~label.sk-toggleable__label {background-color: #d4ebff;}#sk-container-id-1 div.sk-label input.sk-toggleable__control:checked~label.sk-toggleable__label {background-color: #d4ebff;}#sk-container-id-1 input.sk-hidden--visually {border: 0;clip: rect(1px 1px 1px 1px);clip: rect(1px, 1px, 1px, 1px);height: 1px;margin: -1px;overflow: hidden;padding: 0;position: absolute;width: 1px;}#sk-container-id-1 div.sk-estimator {font-family: monospace;background-color: #f0f8ff;border: 1px dotted black;border-radius: 0.25em;box-sizing: border-box;margin-bottom: 0.5em;}#sk-container-id-1 div.sk-estimator:hover {background-color: #d4ebff;}#sk-container-id-1 div.sk-parallel-item::after {content: \"\";width: 100%;border-bottom: 1px solid gray;flex-grow: 1;}#sk-container-id-1 div.sk-label:hover label.sk-toggleable__label {background-color: #d4ebff;}#sk-container-id-1 div.sk-serial::before {content: \"\";position: absolute;border-left: 1px solid gray;box-sizing: border-box;top: 0;bottom: 0;left: 50%;z-index: 0;}#sk-container-id-1 div.sk-serial {display: flex;flex-direction: column;align-items: center;background-color: white;padding-right: 0.2em;padding-left: 0.2em;position: relative;}#sk-container-id-1 div.sk-item {position: relative;z-index: 1;}#sk-container-id-1 div.sk-parallel {display: flex;align-items: stretch;justify-content: center;background-color: white;position: relative;}#sk-container-id-1 div.sk-item::before, #sk-container-id-1 div.sk-parallel-item::before {content: \"\";position: absolute;border-left: 1px solid gray;box-sizing: border-box;top: 0;bottom: 0;left: 50%;z-index: -1;}#sk-container-id-1 div.sk-parallel-item {display: flex;flex-direction: column;z-index: 1;position: relative;background-color: white;}#sk-container-id-1 div.sk-parallel-item:first-child::after {align-self: flex-end;width: 50%;}#sk-container-id-1 div.sk-parallel-item:last-child::after {align-self: flex-start;width: 50%;}#sk-container-id-1 div.sk-parallel-item:only-child::after {width: 0;}#sk-container-id-1 div.sk-dashed-wrapped {border: 1px dashed gray;margin: 0 0.4em 0.5em 0.4em;box-sizing: border-box;padding-bottom: 0.4em;background-color: white;}#sk-container-id-1 div.sk-label label {font-family: monospace;font-weight: bold;display: inline-block;line-height: 1.2em;}#sk-container-id-1 div.sk-label-container {text-align: center;}#sk-container-id-1 div.sk-container {/* jupyter's `normalize.less` sets `[hidden] { display: none; }` but bootstrap.min.css set `[hidden] { display: none !important; }` so we also need the `!important` here to be able to override the default hidden behavior on the sphinx rendered scikit-learn.org. See: https://github.com/scikit-learn/scikit-learn/issues/21755 */display: inline-block !important;position: relative;}#sk-container-id-1 div.sk-text-repr-fallback {display: none;}</style><div id=\"sk-container-id-1\" class=\"sk-top-container\"><div class=\"sk-text-repr-fallback\"><pre>RandomForestClassifier()</pre><b>In a Jupyter environment, please rerun this cell to show the HTML representation or trust the notebook. <br />On GitHub, the HTML representation is unable to render, please try loading this page with nbviewer.org.</b></div><div class=\"sk-container\" hidden><div class=\"sk-item\"><div class=\"sk-estimator sk-toggleable\"><input class=\"sk-toggleable__control sk-hidden--visually\" id=\"sk-estimator-id-1\" type=\"checkbox\" checked><label for=\"sk-estimator-id-1\" class=\"sk-toggleable__label sk-toggleable__label-arrow\">RandomForestClassifier</label><div class=\"sk-toggleable__content\"><pre>RandomForestClassifier()</pre></div></div></div></div></div>"
      ],
      "text/plain": [
       "RandomForestClassifier()"
      ]
     },
     "execution_count": 49,
     "metadata": {},
     "output_type": "execute_result"
    }
   ],
   "source": [
    "rfc.fit(X_train,y_train)"
   ]
  },
  {
   "cell_type": "code",
   "execution_count": 50,
   "id": "a354a80f",
   "metadata": {},
   "outputs": [],
   "source": [
    "rfc_pred = rfc.predict(X_test)"
   ]
  },
  {
   "cell_type": "code",
   "execution_count": 51,
   "id": "9fc133be",
   "metadata": {},
   "outputs": [
    {
     "name": "stdout",
     "output_type": "stream",
     "text": [
      "Accuracy : 58.78%\n"
     ]
    }
   ],
   "source": [
    "print(\"Accuracy : %.2f%%\" % (accuracy_score(rfc_pred,y_test)*100.0))"
   ]
  },
  {
   "cell_type": "code",
   "execution_count": 52,
   "id": "4fc72c53",
   "metadata": {},
   "outputs": [],
   "source": [
    "from sklearn.neighbors import KNeighborsClassifier"
   ]
  },
  {
   "cell_type": "code",
   "execution_count": 53,
   "id": "51830072",
   "metadata": {},
   "outputs": [],
   "source": [
    "Y = df['four_g']\n",
    "X = df[['battery_power','blue','fc','dual_sim','int_memory','n_cores','pc','ram','talk_time','touch_screen','wifi','mobile_wt','m_dep','px_width','px_height','clock_speed','sc_h','sc_w','three_g']]"
   ]
  },
  {
   "cell_type": "code",
   "execution_count": 54,
   "id": "c2be54b6",
   "metadata": {},
   "outputs": [],
   "source": [
    "sm = SMOTE(k_neighbors=3)\n",
    "X,Y=sm.fit_resample(X,Y)"
   ]
  },
  {
   "cell_type": "code",
   "execution_count": 55,
   "id": "ee835b52",
   "metadata": {},
   "outputs": [],
   "source": [
    "X_train, X_test, y_train, y_test = train_test_split(X,Y,test_size=0.2, random_state=42)"
   ]
  },
  {
   "cell_type": "code",
   "execution_count": 56,
   "id": "cc6098c6",
   "metadata": {},
   "outputs": [],
   "source": [
    "knn = KNeighborsClassifier(n_neighbors=3)"
   ]
  },
  {
   "cell_type": "code",
   "execution_count": 57,
   "id": "275c557d",
   "metadata": {},
   "outputs": [
    {
     "data": {
      "text/html": [
       "<style>#sk-container-id-2 {color: black;background-color: white;}#sk-container-id-2 pre{padding: 0;}#sk-container-id-2 div.sk-toggleable {background-color: white;}#sk-container-id-2 label.sk-toggleable__label {cursor: pointer;display: block;width: 100%;margin-bottom: 0;padding: 0.3em;box-sizing: border-box;text-align: center;}#sk-container-id-2 label.sk-toggleable__label-arrow:before {content: \"▸\";float: left;margin-right: 0.25em;color: #696969;}#sk-container-id-2 label.sk-toggleable__label-arrow:hover:before {color: black;}#sk-container-id-2 div.sk-estimator:hover label.sk-toggleable__label-arrow:before {color: black;}#sk-container-id-2 div.sk-toggleable__content {max-height: 0;max-width: 0;overflow: hidden;text-align: left;background-color: #f0f8ff;}#sk-container-id-2 div.sk-toggleable__content pre {margin: 0.2em;color: black;border-radius: 0.25em;background-color: #f0f8ff;}#sk-container-id-2 input.sk-toggleable__control:checked~div.sk-toggleable__content {max-height: 200px;max-width: 100%;overflow: auto;}#sk-container-id-2 input.sk-toggleable__control:checked~label.sk-toggleable__label-arrow:before {content: \"▾\";}#sk-container-id-2 div.sk-estimator input.sk-toggleable__control:checked~label.sk-toggleable__label {background-color: #d4ebff;}#sk-container-id-2 div.sk-label input.sk-toggleable__control:checked~label.sk-toggleable__label {background-color: #d4ebff;}#sk-container-id-2 input.sk-hidden--visually {border: 0;clip: rect(1px 1px 1px 1px);clip: rect(1px, 1px, 1px, 1px);height: 1px;margin: -1px;overflow: hidden;padding: 0;position: absolute;width: 1px;}#sk-container-id-2 div.sk-estimator {font-family: monospace;background-color: #f0f8ff;border: 1px dotted black;border-radius: 0.25em;box-sizing: border-box;margin-bottom: 0.5em;}#sk-container-id-2 div.sk-estimator:hover {background-color: #d4ebff;}#sk-container-id-2 div.sk-parallel-item::after {content: \"\";width: 100%;border-bottom: 1px solid gray;flex-grow: 1;}#sk-container-id-2 div.sk-label:hover label.sk-toggleable__label {background-color: #d4ebff;}#sk-container-id-2 div.sk-serial::before {content: \"\";position: absolute;border-left: 1px solid gray;box-sizing: border-box;top: 0;bottom: 0;left: 50%;z-index: 0;}#sk-container-id-2 div.sk-serial {display: flex;flex-direction: column;align-items: center;background-color: white;padding-right: 0.2em;padding-left: 0.2em;position: relative;}#sk-container-id-2 div.sk-item {position: relative;z-index: 1;}#sk-container-id-2 div.sk-parallel {display: flex;align-items: stretch;justify-content: center;background-color: white;position: relative;}#sk-container-id-2 div.sk-item::before, #sk-container-id-2 div.sk-parallel-item::before {content: \"\";position: absolute;border-left: 1px solid gray;box-sizing: border-box;top: 0;bottom: 0;left: 50%;z-index: -1;}#sk-container-id-2 div.sk-parallel-item {display: flex;flex-direction: column;z-index: 1;position: relative;background-color: white;}#sk-container-id-2 div.sk-parallel-item:first-child::after {align-self: flex-end;width: 50%;}#sk-container-id-2 div.sk-parallel-item:last-child::after {align-self: flex-start;width: 50%;}#sk-container-id-2 div.sk-parallel-item:only-child::after {width: 0;}#sk-container-id-2 div.sk-dashed-wrapped {border: 1px dashed gray;margin: 0 0.4em 0.5em 0.4em;box-sizing: border-box;padding-bottom: 0.4em;background-color: white;}#sk-container-id-2 div.sk-label label {font-family: monospace;font-weight: bold;display: inline-block;line-height: 1.2em;}#sk-container-id-2 div.sk-label-container {text-align: center;}#sk-container-id-2 div.sk-container {/* jupyter's `normalize.less` sets `[hidden] { display: none; }` but bootstrap.min.css set `[hidden] { display: none !important; }` so we also need the `!important` here to be able to override the default hidden behavior on the sphinx rendered scikit-learn.org. See: https://github.com/scikit-learn/scikit-learn/issues/21755 */display: inline-block !important;position: relative;}#sk-container-id-2 div.sk-text-repr-fallback {display: none;}</style><div id=\"sk-container-id-2\" class=\"sk-top-container\"><div class=\"sk-text-repr-fallback\"><pre>KNeighborsClassifier(n_neighbors=3)</pre><b>In a Jupyter environment, please rerun this cell to show the HTML representation or trust the notebook. <br />On GitHub, the HTML representation is unable to render, please try loading this page with nbviewer.org.</b></div><div class=\"sk-container\" hidden><div class=\"sk-item\"><div class=\"sk-estimator sk-toggleable\"><input class=\"sk-toggleable__control sk-hidden--visually\" id=\"sk-estimator-id-2\" type=\"checkbox\" checked><label for=\"sk-estimator-id-2\" class=\"sk-toggleable__label sk-toggleable__label-arrow\">KNeighborsClassifier</label><div class=\"sk-toggleable__content\"><pre>KNeighborsClassifier(n_neighbors=3)</pre></div></div></div></div></div>"
      ],
      "text/plain": [
       "KNeighborsClassifier(n_neighbors=3)"
      ]
     },
     "execution_count": 57,
     "metadata": {},
     "output_type": "execute_result"
    }
   ],
   "source": [
    "knn.fit(X_train,y_train)"
   ]
  },
  {
   "cell_type": "code",
   "execution_count": 58,
   "id": "d23af0aa",
   "metadata": {},
   "outputs": [],
   "source": [
    "knn_pred = knn.predict(X_test)"
   ]
  },
  {
   "cell_type": "code",
   "execution_count": 59,
   "id": "e8473a31",
   "metadata": {},
   "outputs": [
    {
     "name": "stdout",
     "output_type": "stream",
     "text": [
      "Accuracy 65.96858638743456\n"
     ]
    }
   ],
   "source": [
    "print(\"Accuracy\",metrics.accuracy_score(y_test, knn_pred)*100)"
   ]
  },
  {
   "cell_type": "code",
   "execution_count": 60,
   "id": "90cd24e4",
   "metadata": {},
   "outputs": [],
   "source": [
    "from sklearn import preprocessing "
   ]
  },
  {
   "cell_type": "code",
   "execution_count": 61,
   "id": "299ed8a2",
   "metadata": {},
   "outputs": [],
   "source": [
    "from sklearn import tree "
   ]
  },
  {
   "cell_type": "code",
   "execution_count": 62,
   "id": "bae0547a",
   "metadata": {},
   "outputs": [],
   "source": [
    "Y = df['four_g']\n",
    "X = df[['battery_power','blue','fc','dual_sim','int_memory','n_cores','pc','ram','talk_time','touch_screen','wifi','mobile_wt','m_dep','px_width','px_height','clock_speed','sc_h','sc_w','three_g']]"
   ]
  },
  {
   "cell_type": "code",
   "execution_count": 63,
   "id": "fbd2c340",
   "metadata": {},
   "outputs": [],
   "source": [
    "sm = SMOTE(k_neighbors=3)\n",
    "X,Y=sm.fit_resample(X,Y)"
   ]
  },
  {
   "cell_type": "code",
   "execution_count": 64,
   "id": "4ee31b50",
   "metadata": {},
   "outputs": [],
   "source": [
    "X_train, X_test, y_train, y_test = train_test_split(X,Y,test_size=0.2, random_state=42)"
   ]
  },
  {
   "cell_type": "code",
   "execution_count": 65,
   "id": "a78158b9",
   "metadata": {},
   "outputs": [],
   "source": [
    "dt = tree.DecisionTreeClassifier()"
   ]
  },
  {
   "cell_type": "code",
   "execution_count": 66,
   "id": "74df77db",
   "metadata": {},
   "outputs": [
    {
     "data": {
      "text/html": [
       "<style>#sk-container-id-3 {color: black;background-color: white;}#sk-container-id-3 pre{padding: 0;}#sk-container-id-3 div.sk-toggleable {background-color: white;}#sk-container-id-3 label.sk-toggleable__label {cursor: pointer;display: block;width: 100%;margin-bottom: 0;padding: 0.3em;box-sizing: border-box;text-align: center;}#sk-container-id-3 label.sk-toggleable__label-arrow:before {content: \"▸\";float: left;margin-right: 0.25em;color: #696969;}#sk-container-id-3 label.sk-toggleable__label-arrow:hover:before {color: black;}#sk-container-id-3 div.sk-estimator:hover label.sk-toggleable__label-arrow:before {color: black;}#sk-container-id-3 div.sk-toggleable__content {max-height: 0;max-width: 0;overflow: hidden;text-align: left;background-color: #f0f8ff;}#sk-container-id-3 div.sk-toggleable__content pre {margin: 0.2em;color: black;border-radius: 0.25em;background-color: #f0f8ff;}#sk-container-id-3 input.sk-toggleable__control:checked~div.sk-toggleable__content {max-height: 200px;max-width: 100%;overflow: auto;}#sk-container-id-3 input.sk-toggleable__control:checked~label.sk-toggleable__label-arrow:before {content: \"▾\";}#sk-container-id-3 div.sk-estimator input.sk-toggleable__control:checked~label.sk-toggleable__label {background-color: #d4ebff;}#sk-container-id-3 div.sk-label input.sk-toggleable__control:checked~label.sk-toggleable__label {background-color: #d4ebff;}#sk-container-id-3 input.sk-hidden--visually {border: 0;clip: rect(1px 1px 1px 1px);clip: rect(1px, 1px, 1px, 1px);height: 1px;margin: -1px;overflow: hidden;padding: 0;position: absolute;width: 1px;}#sk-container-id-3 div.sk-estimator {font-family: monospace;background-color: #f0f8ff;border: 1px dotted black;border-radius: 0.25em;box-sizing: border-box;margin-bottom: 0.5em;}#sk-container-id-3 div.sk-estimator:hover {background-color: #d4ebff;}#sk-container-id-3 div.sk-parallel-item::after {content: \"\";width: 100%;border-bottom: 1px solid gray;flex-grow: 1;}#sk-container-id-3 div.sk-label:hover label.sk-toggleable__label {background-color: #d4ebff;}#sk-container-id-3 div.sk-serial::before {content: \"\";position: absolute;border-left: 1px solid gray;box-sizing: border-box;top: 0;bottom: 0;left: 50%;z-index: 0;}#sk-container-id-3 div.sk-serial {display: flex;flex-direction: column;align-items: center;background-color: white;padding-right: 0.2em;padding-left: 0.2em;position: relative;}#sk-container-id-3 div.sk-item {position: relative;z-index: 1;}#sk-container-id-3 div.sk-parallel {display: flex;align-items: stretch;justify-content: center;background-color: white;position: relative;}#sk-container-id-3 div.sk-item::before, #sk-container-id-3 div.sk-parallel-item::before {content: \"\";position: absolute;border-left: 1px solid gray;box-sizing: border-box;top: 0;bottom: 0;left: 50%;z-index: -1;}#sk-container-id-3 div.sk-parallel-item {display: flex;flex-direction: column;z-index: 1;position: relative;background-color: white;}#sk-container-id-3 div.sk-parallel-item:first-child::after {align-self: flex-end;width: 50%;}#sk-container-id-3 div.sk-parallel-item:last-child::after {align-self: flex-start;width: 50%;}#sk-container-id-3 div.sk-parallel-item:only-child::after {width: 0;}#sk-container-id-3 div.sk-dashed-wrapped {border: 1px dashed gray;margin: 0 0.4em 0.5em 0.4em;box-sizing: border-box;padding-bottom: 0.4em;background-color: white;}#sk-container-id-3 div.sk-label label {font-family: monospace;font-weight: bold;display: inline-block;line-height: 1.2em;}#sk-container-id-3 div.sk-label-container {text-align: center;}#sk-container-id-3 div.sk-container {/* jupyter's `normalize.less` sets `[hidden] { display: none; }` but bootstrap.min.css set `[hidden] { display: none !important; }` so we also need the `!important` here to be able to override the default hidden behavior on the sphinx rendered scikit-learn.org. See: https://github.com/scikit-learn/scikit-learn/issues/21755 */display: inline-block !important;position: relative;}#sk-container-id-3 div.sk-text-repr-fallback {display: none;}</style><div id=\"sk-container-id-3\" class=\"sk-top-container\"><div class=\"sk-text-repr-fallback\"><pre>DecisionTreeClassifier()</pre><b>In a Jupyter environment, please rerun this cell to show the HTML representation or trust the notebook. <br />On GitHub, the HTML representation is unable to render, please try loading this page with nbviewer.org.</b></div><div class=\"sk-container\" hidden><div class=\"sk-item\"><div class=\"sk-estimator sk-toggleable\"><input class=\"sk-toggleable__control sk-hidden--visually\" id=\"sk-estimator-id-3\" type=\"checkbox\" checked><label for=\"sk-estimator-id-3\" class=\"sk-toggleable__label sk-toggleable__label-arrow\">DecisionTreeClassifier</label><div class=\"sk-toggleable__content\"><pre>DecisionTreeClassifier()</pre></div></div></div></div></div>"
      ],
      "text/plain": [
       "DecisionTreeClassifier()"
      ]
     },
     "execution_count": 66,
     "metadata": {},
     "output_type": "execute_result"
    }
   ],
   "source": [
    "dt.fit(X_train,y_train)"
   ]
  },
  {
   "cell_type": "code",
   "execution_count": 67,
   "id": "393362d6",
   "metadata": {},
   "outputs": [],
   "source": [
    "dt_pred = dt.predict(X_test)"
   ]
  },
  {
   "cell_type": "code",
   "execution_count": 68,
   "id": "72550c3c",
   "metadata": {},
   "outputs": [
    {
     "name": "stdout",
     "output_type": "stream",
     "text": [
      "Accuracy 53.92670157068062\n"
     ]
    }
   ],
   "source": [
    "print(\"Accuracy\",metrics.accuracy_score(y_test, dt_pred)*100)"
   ]
  },
  {
   "cell_type": "code",
   "execution_count": 1,
   "id": "d876b4f3",
   "metadata": {},
   "outputs": [],
   "source": [
    "r,c = 2, 19\n",
    "l1 = [[0 for x in range (c)] for y in range(r)]\n",
    "battery_power = float(input(\"battery_power(500-1999): \"))\n",
    "l1[0][0] = battery_power \n",
    "l1[1][0] = battery_power \n",
    "\n",
    "blue = float(input(\"blue(0-1): \"))\n",
    "l1[0][1] = blue \n",
    "l1[1][1] = blue \n",
    "\n",
    "fc = float(input(\"fc(0-19): \"))\n",
    "l1[0][2] = fc \n",
    "l1[1][2] = fc\n",
    "\n",
    "dual_sim = float(input(\"dual_sim(0-1): \"))\n",
    "l1[0][3] = dual_sim \n",
    "l1[1][3] = dual_sim \n",
    "\n",
    "int_memory = float(input(\"int_memory(2-64): \"))\n",
    "l1[0][4] = int_memory \n",
    "l1[1][4] = int_memory \n",
    "\n",
    "n_cores = float(input(\"n_cores(1-8): \"))\n",
    "l1[0][5] = n_cores \n",
    "l1[1][5] = n_cores\n",
    "\n",
    "pc = float(input(\"pc(0-20): \"))\n",
    "l1[0][6] = pc \n",
    "l1[1][6] = pc\n",
    "\n",
    "ram = float(input(\"ram(263-3989): \"))\n",
    "l1[0][7] = ram \n",
    "l1[1][7] = ram \n",
    "\n",
    "talk_time = float(input(\"talk_time(2-20): \"))\n",
    "l1[0][8] = talk_time \n",
    "l1[1][8] = talk_time \n",
    "\n",
    "touch_screen = float(input(\"touch_screen(0-1): \"))\n",
    "l1[0][9] = touch_screen \n",
    "l1[1][9] = touch_screen\n",
    "\n",
    "wifi = float(input(\"wifi(0-1): \"))\n",
    "l1[0][10] = wifi \n",
    "l1[1][10] = wifi \n",
    "\n",
    "mobile_wt = float(input(\"mobile_wt(80-200): \"))\n",
    "l1[0][11] = mobile_wt \n",
    "l1[1][11] = mobile_wt \n",
    "\n",
    "m_dep = float(input(\"m_dep(0-1): \"))\n",
    "l1[0][12] = m_dep \n",
    "l1[1][12] = m_dep \n",
    "\n",
    "px_width = float(input(\"px_width(501-1998): \"))\n",
    "l1[0][13] = px_width \n",
    "l1[1][13] = px_width\n",
    "\n",
    "px_height = float(input(\"px_height(0-1907): \"))\n",
    "l1[0][14] = px_height \n",
    "l1[1][14] = px_height\n",
    "\n",
    "clock_speed = float(input(\"clock_speed(0.5-3): \"))\n",
    "l1[0][15] = clock_speed \n",
    "l1[1][15] = clock_speed \n",
    "\n",
    "sc_h = float(input(\"sc_h(5-19): \"))\n",
    "l1[0][16] = sc_h \n",
    "l1[1][16] = sc_h \n",
    "\n",
    "sc_w = float(input(\"sc_w(0-18): \"))\n",
    "l1[0][17] = sc_w \n",
    "l1[1][17] = sc_w\n",
    "\n",
    "three_g = float(input(\"three_g(0-1): \"))\n",
    "l1[0][18] = three_g \n",
    "l1[1][18] = three_g "
   ]
  },
  {
   "cell_type": "code",
   "execution_count": 71,
   "id": "142b5f6c",
   "metadata": {},
   "outputs": [
    {
     "name": "stdout",
     "output_type": "stream",
     "text": [
      "four_g\n",
      "0.0\n"
     ]
    },
    {
     "name": "stderr",
     "output_type": "stream",
     "text": [
      "c:\\Users\\Dell\\AppData\\Local\\Programs\\Python\\Python310\\lib\\site-packages\\sklearn\\base.py:450: UserWarning: X does not have valid feature names, but KNeighborsClassifier was fitted with feature names\n",
      "  warnings.warn(\n"
     ]
    }
   ],
   "source": [
    "knn_pred = knn.predict(l1)\n",
    "print('four_g')\n",
    "print(float(knn_pred[0]))"
   ]
  },
  {
   "cell_type": "code",
   "execution_count": 73,
   "id": "622d486c",
   "metadata": {},
   "outputs": [],
   "source": [
    "import numpy as np\n",
    "import pandas as pd\n",
    "import matplotlib.pyplot as plt\n",
    "import seaborn as sns"
   ]
  },
  {
   "cell_type": "code",
   "execution_count": 79,
   "id": "a47e2b2b",
   "metadata": {},
   "outputs": [
    {
     "data": {
      "text/plain": [
       "array([0.74058317, 0.7207818 , 0.73747917, 0.77019604, 0.77087393,\n",
       "       0.74886051, 0.73751485, 0.73045058, 0.76630712, 0.72010391,\n",
       "       0.7567097 , 0.73387568, 0.76245388, 0.76958951, 0.72302952,\n",
       "       0.77358547, 0.76056294, 0.72449233, 0.74775448, 0.72281545,\n",
       "       0.74218869, 0.76345287, 0.73915605, 0.73016515, 0.72163807,\n",
       "       0.72167375, 0.75189315, 0.72581242, 0.73990529, 0.74261683,\n",
       "       0.75121526, 0.75870768, 0.72688276, 0.74918161, 0.72595513,\n",
       "       0.72941591, 0.76455889, 0.72995108, 0.72559835, 0.7411897 ,\n",
       "       0.72570538, 0.76512974, 0.73355458, 0.73615908, 0.7714091 ,\n",
       "       0.76109811, 0.75150069, 0.72427826, 0.74083292, 0.7652011 ,\n",
       "       0.73227016, 0.74293793, 0.7567097 , 0.76691365, 0.72945159,\n",
       "       0.72156672, 0.72277977, 0.76673526, 0.74443641, 0.7207818 ,\n",
       "       0.73366161, 0.76555788, 0.76034887, 0.7508228 , 0.73369729,\n",
       "       0.74750474, 0.74918161, 0.72880938, 0.74693389, 0.74675549,\n",
       "       0.73437517, 0.72527725, 0.7451143 , 0.73680129, 0.72552699,\n",
       "       0.73533848, 0.74629168, 0.75478308, 0.76484432, 0.73462492,\n",
       "       0.76452322, 0.73298373, 0.73837113, 0.73519577, 0.76113379,\n",
       "       0.72663302, 0.75692377, 0.72413554, 0.76687797, 0.75114391,\n",
       "       0.74418667, 0.73070032, 0.77276487, 0.7482183 , 0.74422235,\n",
       "       0.77123071, 0.74340175, 0.75496147, 0.73273398, 0.74932432,\n",
       "       0.73926308, 0.72566971, 0.73059329, 0.73633747, 0.72238731,\n",
       "       0.73954851, 0.72046069, 0.77112367, 0.76855485, 0.76295338,\n",
       "       0.73997665, 0.73369729, 0.73494603, 0.73869223, 0.73904901,\n",
       "       0.77312165, 0.74786152, 0.74440074, 0.73797867, 0.74286658,\n",
       "       0.73822842, 0.74011936, 0.7547474 , 0.76637848, 0.72798879,\n",
       "       0.7287737 , 0.75114391, 0.73829977, 0.74154648, 0.77290758,\n",
       "       0.75092984, 0.7442937 , 0.73883494, 0.73227016, 0.76694933,\n",
       "       0.73091439, 0.75827954, 0.76145489, 0.74190327, 0.7652011 ,\n",
       "       0.7581725 , 0.7505017 , 0.75738758, 0.72459936, 0.7326983 ,\n",
       "       0.74850372, 0.76284634, 0.74803991, 0.77051715, 0.72613352,\n",
       "       0.7550685 , 0.72570538, 0.76523678, 0.74597057, 0.7230652 ,\n",
       "       0.76409508, 0.76138354, 0.72745361, 0.77076689, 0.76587898,\n",
       "       0.75663834, 0.73134253, 0.72688276, 0.7694468 , 0.76452322,\n",
       "       0.75902878, 0.7612765 , 0.7501806 , 0.77230105, 0.74129674,\n",
       "       0.75599614, 0.73305508, 0.75075145, 0.74889618, 0.73298373,\n",
       "       0.77308597, 0.74732634, 0.77351411, 0.77201563, 0.76662823,\n",
       "       0.72816718, 0.73815706, 0.73976258, 0.74532837, 0.72128129,\n",
       "       0.72113858, 0.73883494, 0.75945692, 0.74336607, 0.76776993,\n",
       "       0.72524157, 0.7536057 , 0.73701536, 0.75695945, 0.74350878,\n",
       "       0.74101131, 0.77297894, 0.72781039, 0.76541517, 0.7423314 ,\n",
       "       0.74757609, 0.76859052, 0.76430915, 0.77294326, 0.73733646,\n",
       "       0.76345287, 0.74029775, 0.73487467, 0.73740782, 0.76216846,\n",
       "       0.72759633, 0.73437517, 0.75417655, 0.75517554, 0.73516009,\n",
       "       0.75296349, 0.75117959, 0.75046602, 0.77215834, 0.76958951,\n",
       "       0.73665858, 0.73765756, 0.7323772 , 0.72930888, 0.7655222 ,\n",
       "       0.74472184, 0.75756598, 0.75125094, 0.72010391, 0.7377646 ,\n",
       "       0.76038455, 0.75342731, 0.73926308, 0.74611329, 0.7563886 ,\n",
       "       0.7632388 , 0.76816239, 0.72395715, 0.77244377, 0.76284634,\n",
       "       0.74618464, 0.76256092, 0.73037922, 0.73648019, 0.73558823,\n",
       "       0.7714091 , 0.76409508, 0.75117959, 0.74950271, 0.75645995,\n",
       "       0.73708671, 0.76163328, 0.74454345, 0.73098575, 0.72634759,\n",
       "       0.73780028, 0.74632736, 0.73348322, 0.73540984, 0.74026207,\n",
       "       0.72367173, 0.72841692, 0.75927853, 0.758672  , 0.73437517,\n",
       "       0.76141922, 0.76038455, 0.73944147, 0.7570308 , 0.72074612,\n",
       "       0.75210722, 0.76113379, 0.73426814, 0.74718363, 0.73373297,\n",
       "       0.73929876, 0.73997665, 0.74743338, 0.73812138, 0.72049637,\n",
       "       0.76448754, 0.75217857, 0.72806014, 0.76941112, 0.73323347,\n",
       "       0.73494603, 0.7222446 , 0.76377397, 0.7392274 , 0.74793287,\n",
       "       0.77008901, 0.72288681, 0.7374435 , 0.75974234, 0.75535393,\n",
       "       0.75260671, 0.7335189 , 0.74893186, 0.74179623, 0.75010924])"
      ]
     },
     "execution_count": 79,
     "metadata": {},
     "output_type": "execute_result"
    }
   ],
   "source": [
    "from sklearn.datasets import make_regression\n",
    "from sklearn.linear_model import LinearRegression\n",
    "df=pd.read_csv(r\"C:\\Users\\Dell\\OneDrive\\Desktop\\travel website\\test.csv\")\n",
    "lnr=LinearRegression()\n",
    "from sklearn.model_selection import train_test_split\n",
    "X_train,X_test, Y_train ,Y_test =train_test_split(df[[\"battery_power\"]],df[\"three_g\"],test_size=0.3)\n",
    "lnr.fit(X_train,Y_train)\n",
    "ypr=lnr.predict(X_test)\n",
    "ypr"
   ]
  },
  {
   "cell_type": "code",
   "execution_count": null,
   "id": "74f1fb58",
   "metadata": {},
   "outputs": [],
   "source": []
  }
 ],
 "metadata": {
  "interpreter": {
   "hash": "31f2aee4e71d21fbe5cf8b01ff0e069b9275f58929596ceb00d14d90e3e16cd6"
  },
  "kernelspec": {
   "display_name": "Python 3.8.9 64-bit",
   "language": "python",
   "name": "python3"
  },
  "language_info": {
   "codemirror_mode": {
    "name": "ipython",
    "version": 3
   },
   "file_extension": ".py",
   "mimetype": "text/x-python",
   "name": "python",
   "nbconvert_exporter": "python",
   "pygments_lexer": "ipython3",
   "version": "3.8.9"
  },
  "vscode": {
   "interpreter": {
    "hash": "76d7c06053c3456e5600312cec90888656fc0ed30c03d8425b9dac6e4fc8e014"
   }
  }
 },
 "nbformat": 4,
 "nbformat_minor": 5
}
